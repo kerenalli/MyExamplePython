{
  "nbformat": 4,
  "nbformat_minor": 0,
  "metadata": {
    "colab": {
      "name": "Simple Classification.ipynb",
      "provenance": [],
      "authorship_tag": "ABX9TyNQSrxy5na43qJ5mm8RakR7",
      "include_colab_link": true
    },
    "kernelspec": {
      "name": "python3",
      "display_name": "Python 3"
    }
  },
  "cells": [
    {
      "cell_type": "markdown",
      "metadata": {
        "id": "view-in-github",
        "colab_type": "text"
      },
      "source": [
        "<a href=\"https://colab.research.google.com/github/kerenalli/MyExamplePython/blob/main/Linear_Algebra.ipynb\" target=\"_parent\"><img src=\"https://colab.research.google.com/assets/colab-badge.svg\" alt=\"Open In Colab\"/></a>"
      ]
    },
    {
      "cell_type": "markdown",
      "metadata": {
        "id": "Hoa9vdCibxlu"
      },
      "source": [
        "Vectors in Python"
      ]
    },
    {
      "cell_type": "code",
      "metadata": {
        "colab": {
          "base_uri": "https://localhost:8080/"
        },
        "id": "7nmalYKwb1ns",
        "outputId": "54da4c3a-c177-4dd7-931b-0b23b25212aa"
      },
      "source": [
        "from numpy import array\r\n",
        "a=array([1,2,3,4])\r\n",
        "print (a)"
      ],
      "execution_count": 1,
      "outputs": [
        {
          "output_type": "stream",
          "text": [
            "[1 2 3 4]\n"
          ],
          "name": "stdout"
        }
      ]
    },
    {
      "cell_type": "code",
      "metadata": {
        "colab": {
          "base_uri": "https://localhost:8080/"
        },
        "id": "vKyfJo-QcG4q",
        "outputId": "f522bff1-3428-4f88-95e9-5b2f675b0938"
      },
      "source": [
        "#another vector\r\n",
        "b=array([4,3,2,1])\r\n",
        "print(b)"
      ],
      "execution_count": 2,
      "outputs": [
        {
          "output_type": "stream",
          "text": [
            "[4 3 2 1]\n"
          ],
          "name": "stdout"
        }
      ]
    },
    {
      "cell_type": "code",
      "metadata": {
        "colab": {
          "base_uri": "https://localhost:8080/"
        },
        "id": "CBWC5eeJcRe_",
        "outputId": "88c9ed9c-e169-4939-d5b1-6837f6cf7dd2"
      },
      "source": [
        "#multiply vectors\r\n",
        "c=a*b\r\n",
        "print(c)"
      ],
      "execution_count": 3,
      "outputs": [
        {
          "output_type": "stream",
          "text": [
            "[4 6 6 4]\n"
          ],
          "name": "stdout"
        }
      ]
    },
    {
      "cell_type": "markdown",
      "metadata": {
        "id": "qIrvthcrdANc"
      },
      "source": [
        "Matrix"
      ]
    },
    {
      "cell_type": "code",
      "metadata": {
        "colab": {
          "base_uri": "https://localhost:8080/"
        },
        "id": "lehhGEeVdDbm",
        "outputId": "4467bbbe-1a02-40ce-90dc-7757e6813ea5"
      },
      "source": [
        "A=array([[1,2,3],[4,5,6]])\r\n",
        "print(A)"
      ],
      "execution_count": 5,
      "outputs": [
        {
          "output_type": "stream",
          "text": [
            "[[1 2 3]\n",
            " [4 5 6]]\n"
          ],
          "name": "stdout"
        }
      ]
    },
    {
      "cell_type": "code",
      "metadata": {
        "colab": {
          "base_uri": "https://localhost:8080/"
        },
        "id": "Y6Si6J2idkGt",
        "outputId": "ad7e2a6a-fb63-4d39-e9b4-225c544c31db"
      },
      "source": [
        "B=array([[6,5,4],[3,2,1]])\r\n",
        "print(B)"
      ],
      "execution_count": 6,
      "outputs": [
        {
          "output_type": "stream",
          "text": [
            "[[6 5 4]\n",
            " [3 2 1]]\n"
          ],
          "name": "stdout"
        }
      ]
    },
    {
      "cell_type": "code",
      "metadata": {
        "colab": {
          "base_uri": "https://localhost:8080/"
        },
        "id": "RA4NQBrVdsla",
        "outputId": "851b0cd0-108f-4613-f0a8-e71a8385739e"
      },
      "source": [
        "C=A+B\r\n",
        "print(C)\r\n"
      ],
      "execution_count": 7,
      "outputs": [
        {
          "output_type": "stream",
          "text": [
            "[[7 7 7]\n",
            " [7 7 7]]\n"
          ],
          "name": "stdout"
        }
      ]
    },
    {
      "cell_type": "code",
      "metadata": {
        "colab": {
          "base_uri": "https://localhost:8080/"
        },
        "id": "_JyEmTqBd38E",
        "outputId": "cd48f28c-c2b7-4658-ea53-a2cb72f49e81"
      },
      "source": [
        "D=B-A\r\n",
        "print(D)"
      ],
      "execution_count": 8,
      "outputs": [
        {
          "output_type": "stream",
          "text": [
            "[[ 5  3  1]\n",
            " [-1 -3 -5]]\n"
          ],
          "name": "stdout"
        }
      ]
    },
    {
      "cell_type": "code",
      "metadata": {
        "colab": {
          "base_uri": "https://localhost:8080/"
        },
        "id": "dn-j3jOCeCpL",
        "outputId": "58113968-5678-4820-ea49-47be76bf9833"
      },
      "source": [
        "E=A-B\r\n",
        "print(E)"
      ],
      "execution_count": 10,
      "outputs": [
        {
          "output_type": "stream",
          "text": [
            "[[-5 -3 -1]\n",
            " [ 1  3  5]]\n"
          ],
          "name": "stdout"
        }
      ]
    },
    {
      "cell_type": "code",
      "metadata": {
        "colab": {
          "base_uri": "https://localhost:8080/"
        },
        "id": "Dmxqpl1EeN1r",
        "outputId": "8874cb4b-ae49-4743-d45f-90d3aa5efe68"
      },
      "source": [
        "#Matrix dot product\r\n",
        "from numpy import array\r\n",
        "A=array([[1,2],[3,4]])\r\n",
        "print(A)\r\n",
        "B=array([[1,2],[2,3],[3,4]])\r\n",
        "print(B)\r\n",
        "C = B.dot(A)\r\n",
        "print(C)"
      ],
      "execution_count": 30,
      "outputs": [
        {
          "output_type": "stream",
          "text": [
            "[[1 2]\n",
            " [3 4]]\n",
            "[[1 2]\n",
            " [2 3]\n",
            " [3 4]]\n",
            "[[ 7 10]\n",
            " [11 16]\n",
            " [15 22]]\n"
          ],
          "name": "stdout"
        }
      ]
    },
    {
      "cell_type": "code",
      "metadata": {
        "colab": {
          "base_uri": "https://localhost:8080/"
        },
        "id": "HggYI454hSwW",
        "outputId": "9883d721-e679-4a15-d4ef-dc9598c72f34"
      },
      "source": [
        "# matrix dot product\r\n",
        "from numpy import array\r\n",
        "A = array([[1, 2], [3, 4], [5, 6]])\r\n",
        "print(A)\r\n",
        "B = array([[1, 2], [3, 4]])\r\n",
        "print(B)\r\n",
        "C = A.dot(B)\r\n",
        "print(C)"
      ],
      "execution_count": 26,
      "outputs": [
        {
          "output_type": "stream",
          "text": [
            "[[1 2]\n",
            " [3 4]\n",
            " [5 6]]\n",
            "[[1 2]\n",
            " [3 4]]\n",
            "[[ 7 10]\n",
            " [15 22]\n",
            " [23 34]]\n"
          ],
          "name": "stdout"
        }
      ]
    },
    {
      "cell_type": "markdown",
      "metadata": {
        "id": "4io8L-69iYG_"
      },
      "source": [
        "Matrix Transpose"
      ]
    },
    {
      "cell_type": "code",
      "metadata": {
        "colab": {
          "base_uri": "https://localhost:8080/"
        },
        "id": "VZJica3WibK4",
        "outputId": "c222f54f-4e29-44de-84da-b680fc0316fc"
      },
      "source": [
        "A=array([[1,2],[3,4]])\r\n",
        "F=A.T\r\n",
        "print(A)\r\n",
        "print(\"\\n\")\r\n",
        "print(F)"
      ],
      "execution_count": 33,
      "outputs": [
        {
          "output_type": "stream",
          "text": [
            "[[1 2]\n",
            " [3 4]]\n",
            "\n",
            "\n",
            "[[1 3]\n",
            " [2 4]]\n"
          ],
          "name": "stdout"
        }
      ]
    },
    {
      "cell_type": "code",
      "metadata": {
        "colab": {
          "base_uri": "https://localhost:8080/"
        },
        "id": "B8sj2gdKjR3M",
        "outputId": "b0ca3bc2-47f1-4b00-8e7f-f4641504dc83"
      },
      "source": [
        "# invert matrix\r\n",
        "from numpy import array\r\n",
        "from numpy.linalg import inv\r\n",
        "# define matrix\r\n",
        "A = array([[1, 2], [3, 4]])\r\n",
        "print(A)\r\n",
        "# invert matrix\r\n",
        "B = inv(A)\r\n",
        "print(B)"
      ],
      "execution_count": 35,
      "outputs": [
        {
          "output_type": "stream",
          "text": [
            "[[1 2]\n",
            " [3 4]]\n",
            "[[-2.   1. ]\n",
            " [ 1.5 -0.5]]\n"
          ],
          "name": "stdout"
        }
      ]
    },
    {
      "cell_type": "code",
      "metadata": {
        "colab": {
          "base_uri": "https://localhost:8080/"
        },
        "id": "YrUAZDRFkMj0",
        "outputId": "0062115a-2d8c-4950-ae1f-9ab69beef62d"
      },
      "source": [
        "#Lower and Upper Triangular Matrix\r\n",
        "# LU decomposition\r\n",
        "from numpy import array\r\n",
        "from scipy.linalg import lu\r\n",
        "# define a square matrix\r\n",
        "A = array([[1, 2, 3], [4, 5, 6], [7, 8, 9]])\r\n",
        "print(A)\r\n",
        "# LU decomposition\r\n",
        "P, L, U = lu(A)\r\n",
        "print(\"\\nOriginal P: \\n\")\r\n",
        "print(P)\r\n",
        "print(\"\\nLower Composition L: \\n\")\r\n",
        "print(L)\r\n",
        "print(\"\\nUpper Composition U: \\n\")\r\n",
        "print(U)\r\n",
        "# reconstruct\r\n",
        "print(\"\\nReconstructed P: \\n\")\r\n",
        "B = P.dot(L).dot(U)\r\n",
        "print(B)"
      ],
      "execution_count": 40,
      "outputs": [
        {
          "output_type": "stream",
          "text": [
            "[[1 2 3]\n",
            " [4 5 6]\n",
            " [7 8 9]]\n",
            "\n",
            "Original P: \n",
            "\n",
            "[[0. 1. 0.]\n",
            " [0. 0. 1.]\n",
            " [1. 0. 0.]]\n",
            "\n",
            "Lower Composition L: \n",
            "\n",
            "[[1.         0.         0.        ]\n",
            " [0.14285714 1.         0.        ]\n",
            " [0.57142857 0.5        1.        ]]\n",
            "\n",
            "Upper Composition U: \n",
            "\n",
            "[[7.         8.         9.        ]\n",
            " [0.         0.85714286 1.71428571]\n",
            " [0.         0.         0.        ]]\n",
            "\n",
            "Reconstructed P: \n",
            "\n",
            "[[1. 2. 3.]\n",
            " [4. 5. 6.]\n",
            " [7. 8. 9.]]\n"
          ],
          "name": "stdout"
        }
      ]
    },
    {
      "cell_type": "markdown",
      "metadata": {
        "id": "8BulvRL5m0KF"
      },
      "source": [
        "Singular Value Decomposition"
      ]
    },
    {
      "cell_type": "code",
      "metadata": {
        "colab": {
          "base_uri": "https://localhost:8080/"
        },
        "id": "GZ34g7wLm4Pn",
        "outputId": "6e2fe36c-4897-4b03-a88e-f368ba145edc"
      },
      "source": [
        "from numpy import array\r\n",
        "from scipy.linalg import svd\r\n",
        "A=array([[1,2,3],[4,5,6],[7,8,9]])\r\n",
        "print(A)\r\n",
        "U,s,V=svd(A)\r\n",
        "print(\"\\nU\\n\")\r\n",
        "print(U)\r\n",
        "print(\"\\ns\\n\")\r\n",
        "print(s)\r\n",
        "print(\"\\nV\\n\")\r\n",
        "print(V)"
      ],
      "execution_count": 44,
      "outputs": [
        {
          "output_type": "stream",
          "text": [
            "[[1 2 3]\n",
            " [4 5 6]\n",
            " [7 8 9]]\n",
            "\n",
            "U\n",
            "\n",
            "[[-0.21483724  0.88723069  0.40824829]\n",
            " [-0.52058739  0.24964395 -0.81649658]\n",
            " [-0.82633754 -0.38794278  0.40824829]]\n",
            "\n",
            "s\n",
            "\n",
            "[1.68481034e+01 1.06836951e+00 4.41842475e-16]\n",
            "\n",
            "V\n",
            "\n",
            "[[-0.47967118 -0.57236779 -0.66506441]\n",
            " [-0.77669099 -0.07568647  0.62531805]\n",
            " [-0.40824829  0.81649658 -0.40824829]]\n"
          ],
          "name": "stdout"
        }
      ]
    }
  ]
}