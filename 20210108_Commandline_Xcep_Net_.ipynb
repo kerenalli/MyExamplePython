{
  "nbformat": 4,
  "nbformat_minor": 0,
  "metadata": {
    "colab": {
      "name": "20210108_Commandline_Xcep_Net_.ipynb",
      "provenance": [],
      "authorship_tag": "ABX9TyMY7SwwmhD5zPyRJ5IzXNW6",
      "include_colab_link": true
    },
    "kernelspec": {
      "name": "python3",
      "display_name": "Python 3"
    },
    "accelerator": "GPU"
  },
  "cells": [
    {
      "cell_type": "markdown",
      "metadata": {
        "id": "view-in-github",
        "colab_type": "text"
      },
      "source": [
        "<a href=\"https://colab.research.google.com/github/kerenalli/MyExamplePython/blob/main/20210108_Commandline_Xcep_Net_.ipynb\" target=\"_parent\"><img src=\"https://colab.research.google.com/assets/colab-badge.svg\" alt=\"Open In Colab\"/></a>"
      ]
    },
    {
      "cell_type": "code",
      "metadata": {
        "colab": {
          "base_uri": "https://localhost:8080/"
        },
        "id": "eI30SR8K5UWi",
        "outputId": "a8f9f548-ea38-4812-fc44-018941fc3d16"
      },
      "source": [
        "from google.colab import drive\n",
        "drive.mount('/content/drive')"
      ],
      "execution_count": 1,
      "outputs": [
        {
          "output_type": "stream",
          "text": [
            "Mounted at /content/drive\n"
          ],
          "name": "stdout"
        }
      ]
    },
    {
      "cell_type": "code",
      "metadata": {
        "colab": {
          "base_uri": "https://localhost:8080/"
        },
        "id": "PM72iwo_6Zz0",
        "outputId": "4e633320-c084-4654-e028-cd95477de02b"
      },
      "source": [
        "!ls -l \"/content/drive/My Drive/Colab Notebooks\""
      ],
      "execution_count": 2,
      "outputs": [
        {
          "output_type": "stream",
          "text": [
            "total 96512\n",
            "-rw------- 1 root root   385017 Dec 26 08:09  20201226_face_detection_fron_an_image.ipynb\n",
            "-rw------- 1 root root     3964 Dec 26 05:47  20201226_Face_Features.ipynb\n",
            "-rw------- 1 root root  4018505 Dec 26 07:08  20201226_Face_mouth_eye_detection.ipynb\n",
            "-rw------- 1 root root     4688 Dec 26 07:37  20201226_speech_to_text_extraction.ipynb\n",
            "-rw------- 1 root root     1705 Jan  7 06:02  20210107_Basics_of_Folder.ipynb\n",
            "-rw------- 1 root root    18463 Jan  7 09:31  20210107_Mouth_Clipping.ipynb\n",
            "-rw------- 1 root root     5811 Jan  8 08:50  20210108_CommandLineArguements.ipynb\n",
            "-rw------- 1 root root   826797 Jan  8 06:13  20210108_ImageOperations.ipynb\n",
            "-rw------- 1 root root     2236 Jan  8 08:45  classes.txt\n",
            "-rw------- 1 root root     1878 Jan  8 07:16 'Copy of Untitled5.ipynb'\n",
            "-rw------- 1 root root      209 Dec 23 05:33  DFDC.ipynb\n",
            "-rw------- 1 root root   111562 Dec 17 10:33  Example2.ipynb\n",
            "-rw------- 1 root root 92397640 Dec 24 08:12  facenet_keras.h5\n",
            "-rw------- 1 root root     2228 Jan  8 08:15  shape_counter.ipynb\n",
            "-rw------- 1 root root     1459 Jan  8 08:00  shape_counter.py\n",
            "-rw------- 1 root root     9913 Dec 24 08:07 'Simple Classification.ipynb'\n",
            "-rw------- 1 root root      343 Jan  8 07:39  simple_example.py\n",
            "-rw------- 1 root root      715 Jan  8 07:40  Simple.ipynb\n",
            "-rw------- 1 root root      544 Jan  8 07:40  simple.py\n",
            "-rw------- 1 root root   887819 Dec 24 04:04  Support-Vector-Machines.ipynb\n",
            "drwx------ 2 root root     4096 Dec 23 09:12  TF\n",
            "-rw------- 1 root root     4158 Dec 26 04:39  Untitled0.ipynb\n",
            "-rw------- 1 root root      214 Dec 26 11:25  Untitled1.ipynb\n",
            "-rw------- 1 root root    10297 Dec 29 06:27  Untitled2.ipynb\n",
            "-rw------- 1 root root   108683 Jan  7 06:26  Untitled3.ipynb\n",
            "-rw------- 1 root root     6984 Jan  8 06:55  Untitled4.ipynb\n",
            "-rw------- 1 root root      317 Jan  8 07:27  Untitled5.ipynb\n",
            "drwx------ 2 root root     4096 Jan  8 08:47  Xception-with-Your-Own-Dataset\n"
          ],
          "name": "stdout"
        }
      ]
    },
    {
      "cell_type": "code",
      "metadata": {
        "id": "bd7Z84UhK2SR"
      },
      "source": [
        "ls '/content/drive/MyDrive/Data_Set/101_ObjectCategories' > classes.txt"
      ],
      "execution_count": 27,
      "outputs": []
    },
    {
      "cell_type": "code",
      "metadata": {
        "id": "E4GKGBj2LC4J"
      },
      "source": [
        "%pycat classes.txt"
      ],
      "execution_count": 28,
      "outputs": []
    },
    {
      "cell_type": "code",
      "metadata": {
        "id": "pBxMwduQLMpX"
      },
      "source": [
        "!python fine_tune.py \"/content/drive/MyDrive/Data_Set/101_ObjectCategories\" classes.txt result/"
      ],
      "execution_count": 10,
      "outputs": []
    },
    {
      "cell_type": "code",
      "metadata": {
        "colab": {
          "base_uri": "https://localhost:8080/"
        },
        "id": "vQKJMGc_LUkh",
        "outputId": "9ece78c0-037b-46ed-fe4b-f6e69982c15f"
      },
      "source": [
        "!git clone \"https://github.com/otenim/Xception-with-Your-Own-Dataset\""
      ],
      "execution_count": 32,
      "outputs": [
        {
          "output_type": "stream",
          "text": [
            "fatal: destination path 'Xception-with-Your-Own-Dataset' already exists and is not an empty directory.\n"
          ],
          "name": "stdout"
        }
      ]
    },
    {
      "cell_type": "code",
      "metadata": {
        "colab": {
          "base_uri": "https://localhost:8080/"
        },
        "id": "pD22P8v7MOUY",
        "outputId": "8f2e7767-e653-402d-9b48-ffa5e44221b1"
      },
      "source": [
        "%cd \"/content/drive/My Drive/Colab Notebooks\""
      ],
      "execution_count": 6,
      "outputs": [
        {
          "output_type": "stream",
          "text": [
            "/content/drive/My Drive/Colab Notebooks\n"
          ],
          "name": "stdout"
        }
      ]
    },
    {
      "cell_type": "code",
      "metadata": {
        "colab": {
          "base_uri": "https://localhost:8080/"
        },
        "id": "k4Gttpj7MWCf",
        "outputId": "7e0a74b5-4f4a-4133-8c92-0266d584a052"
      },
      "source": [
        "%ls"
      ],
      "execution_count": 7,
      "outputs": [
        {
          "output_type": "stream",
          "text": [
            " 20201226_face_detection_fron_an_image.ipynb   shape_counter.py\n",
            " 20201226_Face_Features.ipynb                 'Simple Classification.ipynb'\n",
            " 20201226_Face_mouth_eye_detection.ipynb       simple_example.py\n",
            " 20201226_speech_to_text_extraction.ipynb      Simple.ipynb\n",
            " 20210107_Basics_of_Folder.ipynb               simple.py\n",
            " 20210107_Mouth_Clipping.ipynb                 Support-Vector-Machines.ipynb\n",
            " 20210108_CommandLineArguements.ipynb          \u001b[0m\u001b[01;34mTF\u001b[0m/\n",
            " 20210108_ImageOperations.ipynb                Untitled0.ipynb\n",
            " classes.txt                                   Untitled1.ipynb\n",
            "'Copy of Untitled5.ipynb'                      Untitled2.ipynb\n",
            " DFDC.ipynb                                    Untitled3.ipynb\n",
            " Example2.ipynb                                Untitled4.ipynb\n",
            " facenet_keras.h5                              Untitled5.ipynb\n",
            " shape_counter.ipynb                           \u001b[01;34mXception-with-Your-Own-Dataset\u001b[0m/\n"
          ],
          "name": "stdout"
        }
      ]
    },
    {
      "cell_type": "code",
      "metadata": {
        "colab": {
          "base_uri": "https://localhost:8080/"
        },
        "id": "YwY751geMYK_",
        "outputId": "fc635fd6-056b-49cd-fae7-c8b0bbcc72c3"
      },
      "source": [
        "%cd  Xception-with-Your-Own-Dataset"
      ],
      "execution_count": 8,
      "outputs": [
        {
          "output_type": "stream",
          "text": [
            "/content/drive/My Drive/Colab Notebooks/Xception-with-Your-Own-Dataset\n"
          ],
          "name": "stdout"
        }
      ]
    },
    {
      "cell_type": "code",
      "metadata": {
        "id": "cvomq0UiMZ4j"
      },
      "source": [
        ""
      ],
      "execution_count": null,
      "outputs": []
    }
  ]
}