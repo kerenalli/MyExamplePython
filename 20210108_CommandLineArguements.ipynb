{
  "nbformat": 4,
  "nbformat_minor": 0,
  "metadata": {
    "colab": {
      "name": "20210108_CommandLineArguements.ipynb",
      "provenance": [],
      "authorship_tag": "ABX9TyPUV7PZPhbYhAtjSSk2byby",
      "include_colab_link": true
    },
    "kernelspec": {
      "name": "python3",
      "display_name": "Python 3"
    }
  },
  "cells": [
    {
      "cell_type": "markdown",
      "metadata": {
        "id": "view-in-github",
        "colab_type": "text"
      },
      "source": [
        "<a href=\"https://colab.research.google.com/github/kerenalli/MyExamplePython/blob/main/20210108_CommandLineArguements.ipynb\" target=\"_parent\"><img src=\"https://colab.research.google.com/assets/colab-badge.svg\" alt=\"Open In Colab\"/></a>"
      ]
    },
    {
      "cell_type": "code",
      "metadata": {
        "colab": {
          "base_uri": "https://localhost:8080/"
        },
        "id": "eI30SR8K5UWi",
        "outputId": "a9b64c75-0ab7-46e7-954a-200528b150cb"
      },
      "source": [
        "from google.colab import drive\n",
        "drive.mount('/content/drive')"
      ],
      "execution_count": 1,
      "outputs": [
        {
          "output_type": "stream",
          "text": [
            "Mounted at /content/drive\n"
          ],
          "name": "stdout"
        }
      ]
    },
    {
      "cell_type": "code",
      "metadata": {
        "colab": {
          "base_uri": "https://localhost:8080/"
        },
        "id": "PM72iwo_6Zz0",
        "outputId": "1a6f660f-15ee-4229-9a4f-b25ed26d4b90"
      },
      "source": [
        "!ls -l \"/content/drive/My Drive/Colab Notebooks\""
      ],
      "execution_count": 8,
      "outputs": [
        {
          "output_type": "stream",
          "text": [
            "total 96496\n",
            "-rw------- 1 root root   385017 Dec 26 08:09  20201226_face_detection_fron_an_image.ipynb\n",
            "-rw------- 1 root root     3964 Dec 26 05:47  20201226_Face_Features.ipynb\n",
            "-rw------- 1 root root  4018505 Dec 26 07:08  20201226_Face_mouth_eye_detection.ipynb\n",
            "-rw------- 1 root root     4688 Dec 26 07:37  20201226_speech_to_text_extraction.ipynb\n",
            "-rw------- 1 root root     1705 Jan  7 06:02  20210107_Basics_of_Folder.ipynb\n",
            "-rw------- 1 root root    18463 Jan  7 09:31  20210107_Mouth_Clipping.ipynb\n",
            "-rw------- 1 root root   826797 Jan  8 06:13  20210108_ImageOperations.ipynb\n",
            "-rw------- 1 root root     1878 Jan  8 07:16 'Copy of Untitled5.ipynb'\n",
            "-rw------- 1 root root      209 Dec 23 05:33  DFDC.ipynb\n",
            "-rw------- 1 root root   111562 Dec 17 10:33  Example2.ipynb\n",
            "-rw------- 1 root root 92397640 Dec 24 08:12  facenet_keras.h5\n",
            "-rw------- 1 root root     9913 Dec 24 08:07 'Simple Classification.ipynb'\n",
            "-rw------- 1 root root      780 Jan  8 07:31  simple_example.py\n",
            "-rw------- 1 root root   887819 Dec 24 04:04  Support-Vector-Machines.ipynb\n",
            "drwx------ 2 root root     4096 Dec 23 09:12  TF\n",
            "-rw------- 1 root root     4158 Dec 26 04:39  Untitled0.ipynb\n",
            "-rw------- 1 root root      214 Dec 26 11:25  Untitled1.ipynb\n",
            "-rw------- 1 root root    10297 Dec 29 06:27  Untitled2.ipynb\n",
            "-rw------- 1 root root   108683 Jan  7 06:26  Untitled3.ipynb\n",
            "-rw------- 1 root root     6984 Jan  8 06:55  Untitled4.ipynb\n",
            "-rw------- 1 root root      317 Jan  8 07:27  Untitled5.ipynb\n",
            "-rw------- 1 root root     2326 Jan  8 07:31  Untitled6.ipynb\n"
          ],
          "name": "stdout"
        }
      ]
    },
    {
      "cell_type": "code",
      "metadata": {
        "id": "VYrZ6Jux63Hb"
      },
      "source": [
        "#Displaying the contents of file on colab note\r\n",
        "%pycat /content/drive/MyDrive/Colab Notebooks/simple.py"
      ],
      "execution_count": 16,
      "outputs": []
    },
    {
      "cell_type": "code",
      "metadata": {
        "colab": {
          "base_uri": "https://localhost:8080/"
        },
        "id": "Bl03Pq0f7Eao",
        "outputId": "c3b808ca-f47c-498c-99e4-0968db684e19"
      },
      "source": [
        "!python3 \"/content/drive/MyDrive/Colab Notebooks/simple.py\" --name Sudarshana_Kerenalli"
      ],
      "execution_count": 22,
      "outputs": [
        {
          "output_type": "stream",
          "text": [
            "Hi there Sudarshana_Kerenalli, it's nice to meet you!\n"
          ],
          "name": "stdout"
        }
      ]
    },
    {
      "cell_type": "code",
      "metadata": {
        "id": "YyJMmX98ApnV"
      },
      "source": [
        "!python3 \"/content/drive/MyDrive/Colab Notebooks/shape_counter.py\" --input '/content/input_01.png' --output '/content/output_01.png'"
      ],
      "execution_count": 23,
      "outputs": []
    }
  ]
}