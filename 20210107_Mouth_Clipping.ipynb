{
  "nbformat": 4,
  "nbformat_minor": 0,
  "metadata": {
    "colab": {
      "name": "20210107_Mouth_Clipping.ipynb",
      "provenance": [],
      "collapsed_sections": [],
      "authorship_tag": "ABX9TyNDVDuqxA0DDE55PiAHxWtv",
      "include_colab_link": true
    },
    "kernelspec": {
      "name": "python3",
      "display_name": "Python 3"
    }
  },
  "cells": [
    {
      "cell_type": "markdown",
      "metadata": {
        "id": "view-in-github",
        "colab_type": "text"
      },
      "source": [
        "<a href=\"https://colab.research.google.com/github/kerenalli/MyExamplePython/blob/main/20210107_Mouth_Clipping.ipynb\" target=\"_parent\"><img src=\"https://colab.research.google.com/assets/colab-badge.svg\" alt=\"Open In Colab\"/></a>"
      ]
    },
    {
      "cell_type": "markdown",
      "metadata": {
        "id": "QeO_IqmtH1lM"
      },
      "source": [
        "In this program we are clipping the mouth regions from the image and storing it on to the new folder mouth"
      ]
    },
    {
      "cell_type": "code",
      "metadata": {
        "colab": {
          "base_uri": "https://localhost:8080/",
          "height": 309
        },
        "id": "LrgFduUlrixs",
        "outputId": "16bcda6d-3e89-4316-f3ad-540f934284d1"
      },
      "source": [
        "import cv2\r\n",
        "import numpy as np\r\n",
        "import dlib\r\n",
        "import matplotlib.pyplot as plt\r\n",
        "from PIL import Image \r\n",
        "import os\r\n",
        "\r\n",
        "# Load the detector\r\n",
        "detector = dlib.get_frontal_face_detector()\r\n",
        "\r\n",
        "# Load the predictor\r\n",
        "predictor = dlib.shape_predictor(\"/content/shape_predictor_68_face_landmarks.dat\")\r\n",
        "\r\n",
        "# read the image\r\n",
        "img = cv2.imread(\"/content/photo.jpg\")\r\n",
        "\r\n",
        "# Convert image into grayscale\r\n",
        "gray = cv2.cvtColor(src=img, code=cv2.COLOR_BGR2GRAY)\r\n",
        "\r\n",
        "# Use detector to find landmarks\r\n",
        "faces = detector(gray)\r\n",
        "for face in faces:\r\n",
        "    x1 = face.left() # left point\r\n",
        "    y1 = face.top() # top point\r\n",
        "    x2 = face.right() # right point\r\n",
        "    y2 = face.bottom() # bottom point\r\n",
        "\r\n",
        "    # Create landmark object\r\n",
        "    landmarks = predictor(image=gray, box=face)\r\n",
        "    # Loop through all the points\r\n",
        "    for n in range(48, 68):\r\n",
        "        x = landmarks.part(n).x\r\n",
        "        y = landmarks.part(n).y\r\n",
        "        # Draw a circle\r\n",
        "        cv2.circle(img=img, center=(x, y), radius=3, color=(0, 255, 0), thickness=-1)\r\n",
        "                \r\n",
        "    # Clip the mouth position from the image \r\n",
        "    xmouthpoints = [landmarks.part(x).x for x in range(48,67)]\r\n",
        "    ymouthpoints = [landmarks.part(x).y for x in range(48,67)]\r\n",
        "    maxx = max(xmouthpoints)\r\n",
        "    minx = min(xmouthpoints)\r\n",
        "    maxy = max(ymouthpoints)\r\n",
        "    miny = min(ymouthpoints) \r\n",
        "    # to show the mouth properly pad both sides\r\n",
        "    pad = 10\r\n",
        "    crop_image = img[miny-pad:maxy+pad,minx-pad:maxx+pad]\r\n",
        "    #cv2.resize(crop_image,(256,256))\r\n",
        "    plt.imshow(crop_image)\r\n",
        "\r\n",
        "im2=cv2.resize(crop_image,(256,256))\r\n",
        "# get dimensions of image\r\n",
        "dimensions = im2.shape\r\n",
        " \r\n",
        "# height, width, number of channels in image\r\n",
        "\r\n",
        "height = im2.shape[0]\r\n",
        "width = im2.shape[1]\r\n",
        "channels = im2.shape[2]\r\n",
        " \r\n",
        "print('Image Dimension    : ',dimensions)\r\n",
        "print('Image Height       : ',height)\r\n",
        "print('Image Width        : ',width)\r\n",
        "print('Number of Channels : ',channels)\r\n",
        "\r\n",
        "#Saving the cropped file to mouth directory\r\n",
        "directory=\"mouth\"\r\n",
        "parent_directory='/content/sample_data'\r\n",
        "path=os.path.join(parent_directory,directory)\r\n",
        "try:\r\n",
        "  os.makedirs(path, exist_ok=True)\r\n",
        "  # Filename \r\n",
        "  filename = 'crop_image.jpg'  \r\n",
        "  cv2.imwrite(filename, crop_image) \r\n",
        "except OSError as error:\r\n",
        "  print(error)\r\n",
        "# Using cv2.imwrite() method \r\n",
        "# Saving the image \r\n",
        "#plt.imshow(crop_image)\r\n",
        "# (It will not change orginal image) \r\n",
        "# Delay between every frame\r\n",
        "cv2.waitKey(delay=0)\r\n",
        "\r\n",
        "# Close all windows\r\n",
        "cv2.destroyAllWindows()"
      ],
      "execution_count": 25,
      "outputs": [
        {
          "output_type": "stream",
          "text": [
            "Image Dimension    :  (256, 256, 3)\n",
            "Image Height       :  256\n",
            "Image Width        :  256\n",
            "Number of Channels :  3\n"
          ],
          "name": "stdout"
        },
        {
          "output_type": "display_data",
          "data": {
            "image/png": "[encoded data removed]",
            "text/plain": [
              "<Figure size 432x288 with 1 Axes>"
            ]
          },
          "metadata": {
            "tags": [],
            "needs_background": "light"
          }
        }
      ]
    }
  ]
}