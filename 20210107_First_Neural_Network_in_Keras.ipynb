{
  "nbformat": 4,
  "nbformat_minor": 0,
  "metadata": {
    "colab": {
      "name": "20210107_First Neural Network in Keras.ipynb",
      "provenance": [],
      "collapsed_sections": [],
      "authorship_tag": "ABX9TyMrvVat5hdjwGNylA4f7I2n",
      "include_colab_link": true
    },
    "kernelspec": {
      "name": "python3",
      "display_name": "Python 3"
    }
  },
  "cells": [
    {
      "cell_type": "markdown",
      "metadata": {
        "id": "view-in-github",
        "colab_type": "text"
      },
      "source": [
        "<a href=\"https://colab.research.google.com/github/kerenalli/MyExamplePython/blob/main/20210107_First_Neural_Network_in_Keras.ipynb\" target=\"_parent\"><img src=\"https://colab.research.google.com/assets/colab-badge.svg\" alt=\"Open In Colab\"/></a>"
      ]
    },
    {
      "cell_type": "code",
      "metadata": {
        "id": "bufz789VpWKB"
      },
      "source": [
        "# This Python 3 environment comes with many helpful analytics libraries installed\r\n",
        "# It is defined by the kaggle/python docker image: https://github.com/kaggle/docker-python\r\n",
        "# For example, here's several helpful packages to load in \r\n",
        "\r\n",
        "import numpy as np # linear algebra\r\n",
        "import pandas as pd # data processing, CSV file I/O (e.g. pd.read_csv)\r\n",
        "\r\n",
        "# Input data files are available in the \"../input/\" directory.\r\n",
        "# For example, running this (by clicking run or pressing Shift+Enter) will list the files in the input directory\r\n",
        "\r\n",
        "\r\n",
        "# Any results you write to the current directory are saved as output."
      ],
      "execution_count": 28,
      "outputs": []
    },
    {
      "cell_type": "code",
      "metadata": {
        "colab": {
          "base_uri": "https://localhost:8080/",
          "height": 204
        },
        "id": "ArmKAzfIpb4L",
        "outputId": "7133b241-3f22-4ba0-edca-80d8064d0766"
      },
      "source": [
        "pdata = pd.read_csv('/content/diabetes1.csv')\r\n",
        "pdata.head()"
      ],
      "execution_count": 29,
      "outputs": [
        {
          "output_type": "execute_result",
          "data": {
            "text/html": [
              "<div>\n",
              "<style scoped>\n",
              "    .dataframe tbody tr th:only-of-type {\n",
              "        vertical-align: middle;\n",
              "    }\n",
              "\n",
              "    .dataframe tbody tr th {\n",
              "        vertical-align: top;\n",
              "    }\n",
              "\n",
              "    .dataframe thead th {\n",
              "        text-align: right;\n",
              "    }\n",
              "</style>\n",
              "<table border=\"1\" class=\"dataframe\">\n",
              "  <thead>\n",
              "    <tr style=\"text-align: right;\">\n",
              "      <th></th>\n",
              "      <th>Pregnancies</th>\n",
              "      <th>Glucose</th>\n",
              "      <th>BloodPressure</th>\n",
              "      <th>SkinThickness</th>\n",
              "      <th>Insulin</th>\n",
              "      <th>BMI</th>\n",
              "      <th>DiabetesPedigreeFunction</th>\n",
              "      <th>Age</th>\n",
              "      <th>Outcome</th>\n",
              "    </tr>\n",
              "  </thead>\n",
              "  <tbody>\n",
              "    <tr>\n",
              "      <th>0</th>\n",
              "      <td>6</td>\n",
              "      <td>148</td>\n",
              "      <td>72</td>\n",
              "      <td>35</td>\n",
              "      <td>0</td>\n",
              "      <td>33.6</td>\n",
              "      <td>0.627</td>\n",
              "      <td>50</td>\n",
              "      <td>1</td>\n",
              "    </tr>\n",
              "    <tr>\n",
              "      <th>1</th>\n",
              "      <td>1</td>\n",
              "      <td>85</td>\n",
              "      <td>66</td>\n",
              "      <td>29</td>\n",
              "      <td>0</td>\n",
              "      <td>26.6</td>\n",
              "      <td>0.351</td>\n",
              "      <td>31</td>\n",
              "      <td>0</td>\n",
              "    </tr>\n",
              "    <tr>\n",
              "      <th>2</th>\n",
              "      <td>8</td>\n",
              "      <td>183</td>\n",
              "      <td>64</td>\n",
              "      <td>0</td>\n",
              "      <td>0</td>\n",
              "      <td>23.3</td>\n",
              "      <td>0.672</td>\n",
              "      <td>32</td>\n",
              "      <td>1</td>\n",
              "    </tr>\n",
              "    <tr>\n",
              "      <th>3</th>\n",
              "      <td>1</td>\n",
              "      <td>89</td>\n",
              "      <td>66</td>\n",
              "      <td>23</td>\n",
              "      <td>94</td>\n",
              "      <td>28.1</td>\n",
              "      <td>0.167</td>\n",
              "      <td>21</td>\n",
              "      <td>0</td>\n",
              "    </tr>\n",
              "    <tr>\n",
              "      <th>4</th>\n",
              "      <td>0</td>\n",
              "      <td>137</td>\n",
              "      <td>40</td>\n",
              "      <td>35</td>\n",
              "      <td>168</td>\n",
              "      <td>43.1</td>\n",
              "      <td>2.288</td>\n",
              "      <td>33</td>\n",
              "      <td>1</td>\n",
              "    </tr>\n",
              "  </tbody>\n",
              "</table>\n",
              "</div>"
            ],
            "text/plain": [
              "   Pregnancies  Glucose  BloodPressure  ...  DiabetesPedigreeFunction  Age  Outcome\n",
              "0            6      148             72  ...                     0.627   50        1\n",
              "1            1       85             66  ...                     0.351   31        0\n",
              "2            8      183             64  ...                     0.672   32        1\n",
              "3            1       89             66  ...                     0.167   21        0\n",
              "4            0      137             40  ...                     2.288   33        1\n",
              "\n",
              "[5 rows x 9 columns]"
            ]
          },
          "metadata": {
            "tags": []
          },
          "execution_count": 29
        }
      ]
    },
    {
      "cell_type": "code",
      "metadata": {
        "colab": {
          "base_uri": "https://localhost:8080/",
          "height": 317
        },
        "id": "DDX1MNtLpzsD",
        "outputId": "5ec8df4d-7cb1-47aa-d2ac-ce968d424536"
      },
      "source": [
        "pdata.describe()"
      ],
      "execution_count": 30,
      "outputs": [
        {
          "output_type": "execute_result",
          "data": {
            "text/html": [
              "<div>\n",
              "<style scoped>\n",
              "    .dataframe tbody tr th:only-of-type {\n",
              "        vertical-align: middle;\n",
              "    }\n",
              "\n",
              "    .dataframe tbody tr th {\n",
              "        vertical-align: top;\n",
              "    }\n",
              "\n",
              "    .dataframe thead th {\n",
              "        text-align: right;\n",
              "    }\n",
              "</style>\n",
              "<table border=\"1\" class=\"dataframe\">\n",
              "  <thead>\n",
              "    <tr style=\"text-align: right;\">\n",
              "      <th></th>\n",
              "      <th>Pregnancies</th>\n",
              "      <th>Glucose</th>\n",
              "      <th>BloodPressure</th>\n",
              "      <th>SkinThickness</th>\n",
              "      <th>Insulin</th>\n",
              "      <th>BMI</th>\n",
              "      <th>DiabetesPedigreeFunction</th>\n",
              "      <th>Age</th>\n",
              "      <th>Outcome</th>\n",
              "    </tr>\n",
              "  </thead>\n",
              "  <tbody>\n",
              "    <tr>\n",
              "      <th>count</th>\n",
              "      <td>768.000000</td>\n",
              "      <td>768.000000</td>\n",
              "      <td>768.000000</td>\n",
              "      <td>768.000000</td>\n",
              "      <td>768.000000</td>\n",
              "      <td>768.000000</td>\n",
              "      <td>768.000000</td>\n",
              "      <td>768.000000</td>\n",
              "      <td>768.000000</td>\n",
              "    </tr>\n",
              "    <tr>\n",
              "      <th>mean</th>\n",
              "      <td>3.845052</td>\n",
              "      <td>120.894531</td>\n",
              "      <td>69.105469</td>\n",
              "      <td>20.536458</td>\n",
              "      <td>79.799479</td>\n",
              "      <td>31.992578</td>\n",
              "      <td>0.471876</td>\n",
              "      <td>33.240885</td>\n",
              "      <td>0.348958</td>\n",
              "    </tr>\n",
              "    <tr>\n",
              "      <th>std</th>\n",
              "      <td>3.369578</td>\n",
              "      <td>31.972618</td>\n",
              "      <td>19.355807</td>\n",
              "      <td>15.952218</td>\n",
              "      <td>115.244002</td>\n",
              "      <td>7.884160</td>\n",
              "      <td>0.331329</td>\n",
              "      <td>11.760232</td>\n",
              "      <td>0.476951</td>\n",
              "    </tr>\n",
              "    <tr>\n",
              "      <th>min</th>\n",
              "      <td>0.000000</td>\n",
              "      <td>0.000000</td>\n",
              "      <td>0.000000</td>\n",
              "      <td>0.000000</td>\n",
              "      <td>0.000000</td>\n",
              "      <td>0.000000</td>\n",
              "      <td>0.078000</td>\n",
              "      <td>21.000000</td>\n",
              "      <td>0.000000</td>\n",
              "    </tr>\n",
              "    <tr>\n",
              "      <th>25%</th>\n",
              "      <td>1.000000</td>\n",
              "      <td>99.000000</td>\n",
              "      <td>62.000000</td>\n",
              "      <td>0.000000</td>\n",
              "      <td>0.000000</td>\n",
              "      <td>27.300000</td>\n",
              "      <td>0.243750</td>\n",
              "      <td>24.000000</td>\n",
              "      <td>0.000000</td>\n",
              "    </tr>\n",
              "    <tr>\n",
              "      <th>50%</th>\n",
              "      <td>3.000000</td>\n",
              "      <td>117.000000</td>\n",
              "      <td>72.000000</td>\n",
              "      <td>23.000000</td>\n",
              "      <td>30.500000</td>\n",
              "      <td>32.000000</td>\n",
              "      <td>0.372500</td>\n",
              "      <td>29.000000</td>\n",
              "      <td>0.000000</td>\n",
              "    </tr>\n",
              "    <tr>\n",
              "      <th>75%</th>\n",
              "      <td>6.000000</td>\n",
              "      <td>140.250000</td>\n",
              "      <td>80.000000</td>\n",
              "      <td>32.000000</td>\n",
              "      <td>127.250000</td>\n",
              "      <td>36.600000</td>\n",
              "      <td>0.626250</td>\n",
              "      <td>41.000000</td>\n",
              "      <td>1.000000</td>\n",
              "    </tr>\n",
              "    <tr>\n",
              "      <th>max</th>\n",
              "      <td>17.000000</td>\n",
              "      <td>199.000000</td>\n",
              "      <td>122.000000</td>\n",
              "      <td>99.000000</td>\n",
              "      <td>846.000000</td>\n",
              "      <td>67.100000</td>\n",
              "      <td>2.420000</td>\n",
              "      <td>81.000000</td>\n",
              "      <td>1.000000</td>\n",
              "    </tr>\n",
              "  </tbody>\n",
              "</table>\n",
              "</div>"
            ],
            "text/plain": [
              "       Pregnancies     Glucose  ...         Age     Outcome\n",
              "count   768.000000  768.000000  ...  768.000000  768.000000\n",
              "mean      3.845052  120.894531  ...   33.240885    0.348958\n",
              "std       3.369578   31.972618  ...   11.760232    0.476951\n",
              "min       0.000000    0.000000  ...   21.000000    0.000000\n",
              "25%       1.000000   99.000000  ...   24.000000    0.000000\n",
              "50%       3.000000  117.000000  ...   29.000000    0.000000\n",
              "75%       6.000000  140.250000  ...   41.000000    1.000000\n",
              "max      17.000000  199.000000  ...   81.000000    1.000000\n",
              "\n",
              "[8 rows x 9 columns]"
            ]
          },
          "metadata": {
            "tags": []
          },
          "execution_count": 30
        }
      ]
    },
    {
      "cell_type": "code",
      "metadata": {
        "colab": {
          "base_uri": "https://localhost:8080/"
        },
        "id": "Lxdf-sNkp7zD",
        "outputId": "c8788088-45b0-4df6-cd78-32ebc43193ce"
      },
      "source": [
        "# let's remove the 0-entries for these fields\r\n",
        "\r\n",
        "zero_fields = ['Glucose', 'BloodPressure', 'SkinThickness', 'Insulin', 'BMI']\r\n",
        "\r\n",
        "def check_zero_entries(data, fields):\r\n",
        "    \"\"\" List number of 0-entries in each of the given fields\"\"\"\r\n",
        "    for field in fields:\r\n",
        "        print('field %s: num 0-entries: %d' % (field, len(data.loc[ data[field] == 0, field ])))\r\n",
        "\r\n",
        "check_zero_entries(pdata, zero_fields)"
      ],
      "execution_count": 31,
      "outputs": [
        {
          "output_type": "stream",
          "text": [
            "field Glucose: num 0-entries: 5\n",
            "field BloodPressure: num 0-entries: 35\n",
            "field SkinThickness: num 0-entries: 227\n",
            "field Insulin: num 0-entries: 374\n",
            "field BMI: num 0-entries: 11\n"
          ],
          "name": "stdout"
        }
      ]
    },
    {
      "cell_type": "code",
      "metadata": {
        "colab": {
          "base_uri": "https://localhost:8080/"
        },
        "id": "FEOdJ2dfqB5F",
        "outputId": "490b340c-2e86-437a-ad07-ba1b5eb39f68"
      },
      "source": [
        "# First - split into Train/Test\r\n",
        "from sklearn.model_selection import train_test_split\r\n",
        "\r\n",
        "features = list(pdata.columns.values)\r\n",
        "features.remove('Outcome')\r\n",
        "print(features)\r\n",
        "X = pdata[features]\r\n",
        "y = pdata['Outcome']\r\n",
        "\r\n",
        "X_train, X_test, y_train, y_test = train_test_split(X, y, test_size=0.25, random_state=0)\r\n",
        "\r\n",
        "print(X_train.shape)\r\n",
        "print(X_test.shape)"
      ],
      "execution_count": 32,
      "outputs": [
        {
          "output_type": "stream",
          "text": [
            "['Pregnancies', 'Glucose', 'BloodPressure', 'SkinThickness', 'Insulin', 'BMI', 'DiabetesPedigreeFunction', 'Age']\n",
            "(576, 8)\n",
            "(192, 8)\n"
          ],
          "name": "stdout"
        }
      ]
    },
    {
      "cell_type": "code",
      "metadata": {
        "id": "qTGuzoolqJOL"
      },
      "source": [
        "# lets fix the 0-entry for a field in the dataset with its mean value\r\n",
        "def impute_zero_field(data, field):\r\n",
        "    nonzero_vals = data.loc[data[field] != 0, field]\r\n",
        "    avg = np.sum(nonzero_vals) / len(nonzero_vals)\r\n",
        "    k = len(data.loc[ data[field] == 0, field])   # num of 0-entries\r\n",
        "    data.loc[ data[field] == 0, field ] = avg\r\n",
        "    print('Field: %s; fixed %d entries with value: %.3f' % (field, k, avg))"
      ],
      "execution_count": 33,
      "outputs": []
    },
    {
      "cell_type": "code",
      "metadata": {
        "colab": {
          "base_uri": "https://localhost:8080/"
        },
        "id": "AXqvq80bqLub",
        "outputId": "5358aa95-f051-49e9-d2be-ee29c8ee17e1"
      },
      "source": [
        "# Fix it for Train dataset\r\n",
        "for field in zero_fields:\r\n",
        "    impute_zero_field(X_train, field)"
      ],
      "execution_count": 34,
      "outputs": [
        {
          "output_type": "stream",
          "text": [
            "Field: Glucose; fixed 4 entries with value: 122.003\n",
            "Field: BloodPressure; fixed 25 entries with value: 72.846\n",
            "Field: SkinThickness; fixed 163 entries with value: 29.465\n",
            "Field: Insulin; fixed 270 entries with value: 158.464\n",
            "Field: BMI; fixed 8 entries with value: 32.663\n"
          ],
          "name": "stdout"
        }
      ]
    },
    {
      "cell_type": "code",
      "metadata": {
        "colab": {
          "base_uri": "https://localhost:8080/"
        },
        "id": "3BKHroeBqSAb",
        "outputId": "e0a9e0a8-c17f-4738-d5d9-bc1693918406"
      },
      "source": [
        "# double check for the Train dataset\r\n",
        "check_zero_entries(X_train, zero_fields)"
      ],
      "execution_count": 35,
      "outputs": [
        {
          "output_type": "stream",
          "text": [
            "field Glucose: num 0-entries: 0\n",
            "field BloodPressure: num 0-entries: 0\n",
            "field SkinThickness: num 0-entries: 0\n",
            "field Insulin: num 0-entries: 0\n",
            "field BMI: num 0-entries: 0\n"
          ],
          "name": "stdout"
        }
      ]
    },
    {
      "cell_type": "code",
      "metadata": {
        "colab": {
          "base_uri": "https://localhost:8080/"
        },
        "id": "oCMqHjrDqVwT",
        "outputId": "723185f3-f67e-4768-dbc2-4cdd787fcdfa"
      },
      "source": [
        "# Fix for Test dataset\r\n",
        "for field in zero_fields:\r\n",
        "    impute_zero_field(X_test, field)"
      ],
      "execution_count": 36,
      "outputs": [
        {
          "output_type": "stream",
          "text": [
            "Field: Glucose; fixed 1 entries with value: 120.738\n",
            "Field: BloodPressure; fixed 10 entries with value: 71.071\n",
            "Field: SkinThickness; fixed 64 entries with value: 28.148\n",
            "Field: Insulin; fixed 104 entries with value: 145.409\n",
            "Field: BMI; fixed 3 entries with value: 31.841\n"
          ],
          "name": "stdout"
        }
      ]
    },
    {
      "cell_type": "code",
      "metadata": {
        "colab": {
          "base_uri": "https://localhost:8080/"
        },
        "id": "3wJMqJVrqZKt",
        "outputId": "855f055f-ae35-4274-b284-3a0c90a594d7"
      },
      "source": [
        "# double check for the Test dataset\r\n",
        "check_zero_entries(X_test, zero_fields)"
      ],
      "execution_count": 37,
      "outputs": [
        {
          "output_type": "stream",
          "text": [
            "field Glucose: num 0-entries: 0\n",
            "field BloodPressure: num 0-entries: 0\n",
            "field SkinThickness: num 0-entries: 0\n",
            "field Insulin: num 0-entries: 0\n",
            "field BMI: num 0-entries: 0\n"
          ],
          "name": "stdout"
        }
      ]
    },
    {
      "cell_type": "code",
      "metadata": {
        "id": "2Znw01EvqdGj"
      },
      "source": [
        "# Ensure that fieldnames aren't included\r\n",
        "X_train = X_train.values\r\n",
        "y_train = y_train.values\r\n",
        "X_test  = X_test.values\r\n",
        "y_test  = y_test.values"
      ],
      "execution_count": 38,
      "outputs": []
    },
    {
      "cell_type": "code",
      "metadata": {
        "colab": {
          "base_uri": "https://localhost:8080/"
        },
        "id": "-kW5FoXVqjdD",
        "outputId": "1144f974-6934-42de-a362-2e011969cc3b"
      },
      "source": [
        "NB_EPOCHS = 100  # num of epochs to test for\r\n",
        "BATCH_SIZE = 64\r\n",
        "\r\n",
        "## Create our model\r\n",
        "model = Sequential()\r\n",
        "\r\n",
        "# 1st layer: input_dim=8, 12 nodes, RELU\r\n",
        "model.add(Dense(12, input_dim=8, kernel_initializer='random_uniform', activation='relu'))\r\n",
        "# 2nd layer: 8 nodes, RELU\r\n",
        "model.add(Dense(8, kernel_initializer='random_uniform', activation='relu'))\r\n",
        "# output layer: dim=1, activation sigmoid\r\n",
        "model.add(Dense(1, kernel_initializer='random_uniform', activation='sigmoid' ))\r\n",
        "\r\n",
        "# Compile the model\r\n",
        "model.compile(loss='binary_crossentropy',   # since we are predicting 0/1\r\n",
        "             optimizer='adam',\r\n",
        "             metrics=['accuracy'])\r\n",
        "\r\n",
        "print('Starting training...')\r\n",
        "# train the model, store the results for plotting\r\n",
        "history = model.fit(X_train,\r\n",
        "                    y_train,\r\n",
        "                    validation_data=(X_test, y_test),\r\n",
        "                    epochs=NB_EPOCHS,verbose=1, callbacks=None, validation_split=0.2)"
      ],
      "execution_count": 61,
      "outputs": [
        {
          "output_type": "stream",
          "text": [
            "Starting training...\n",
            "Epoch 1/100\n",
            "15/15 [==============================] - 1s 13ms/step - loss: 0.6902 - accuracy: 0.6139 - val_loss: 0.6808 - val_accuracy: 0.6810\n",
            "Epoch 2/100\n",
            "15/15 [==============================] - 0s 4ms/step - loss: 0.6804 - accuracy: 0.6641 - val_loss: 0.6693 - val_accuracy: 0.6810\n",
            "Epoch 3/100\n",
            "15/15 [==============================] - 0s 4ms/step - loss: 0.6722 - accuracy: 0.6543 - val_loss: 0.6641 - val_accuracy: 0.6810\n",
            "Epoch 4/100\n",
            "15/15 [==============================] - 0s 4ms/step - loss: 0.6743 - accuracy: 0.6379 - val_loss: 0.6602 - val_accuracy: 0.6810\n",
            "Epoch 5/100\n",
            "15/15 [==============================] - 0s 4ms/step - loss: 0.6727 - accuracy: 0.6279 - val_loss: 0.6550 - val_accuracy: 0.6810\n",
            "Epoch 6/100\n",
            "15/15 [==============================] - 0s 4ms/step - loss: 0.6756 - accuracy: 0.6142 - val_loss: 0.6528 - val_accuracy: 0.6810\n",
            "Epoch 7/100\n",
            "15/15 [==============================] - 0s 4ms/step - loss: 0.6603 - accuracy: 0.6440 - val_loss: 0.6520 - val_accuracy: 0.6810\n",
            "Epoch 8/100\n",
            "15/15 [==============================] - 0s 4ms/step - loss: 0.6560 - accuracy: 0.6481 - val_loss: 0.6420 - val_accuracy: 0.6724\n",
            "Epoch 9/100\n",
            "15/15 [==============================] - 0s 5ms/step - loss: 0.6467 - accuracy: 0.6582 - val_loss: 0.6370 - val_accuracy: 0.6810\n",
            "Epoch 10/100\n",
            "15/15 [==============================] - 0s 4ms/step - loss: 0.6359 - accuracy: 0.6577 - val_loss: 0.6274 - val_accuracy: 0.6897\n",
            "Epoch 11/100\n",
            "15/15 [==============================] - 0s 4ms/step - loss: 0.6461 - accuracy: 0.6284 - val_loss: 0.6188 - val_accuracy: 0.6724\n",
            "Epoch 12/100\n",
            "15/15 [==============================] - 0s 4ms/step - loss: 0.6177 - accuracy: 0.6657 - val_loss: 0.6168 - val_accuracy: 0.7414\n",
            "Epoch 13/100\n",
            "15/15 [==============================] - 0s 19ms/step - loss: 0.6215 - accuracy: 0.6628 - val_loss: 0.6072 - val_accuracy: 0.7414\n",
            "Epoch 14/100\n",
            "15/15 [==============================] - 0s 4ms/step - loss: 0.5913 - accuracy: 0.6865 - val_loss: 0.6444 - val_accuracy: 0.5948\n",
            "Epoch 15/100\n",
            "15/15 [==============================] - 0s 4ms/step - loss: 0.6250 - accuracy: 0.6490 - val_loss: 0.6027 - val_accuracy: 0.7241\n",
            "Epoch 16/100\n",
            "15/15 [==============================] - 0s 4ms/step - loss: 0.5874 - accuracy: 0.6934 - val_loss: 0.5995 - val_accuracy: 0.7414\n",
            "Epoch 17/100\n",
            "15/15 [==============================] - 0s 4ms/step - loss: 0.5917 - accuracy: 0.6799 - val_loss: 0.5980 - val_accuracy: 0.7328\n",
            "Epoch 18/100\n",
            "15/15 [==============================] - 0s 4ms/step - loss: 0.5781 - accuracy: 0.7022 - val_loss: 0.6044 - val_accuracy: 0.7155\n",
            "Epoch 19/100\n",
            "15/15 [==============================] - 0s 4ms/step - loss: 0.5873 - accuracy: 0.7020 - val_loss: 0.6059 - val_accuracy: 0.6810\n",
            "Epoch 20/100\n",
            "15/15 [==============================] - 0s 4ms/step - loss: 0.5822 - accuracy: 0.7154 - val_loss: 0.6204 - val_accuracy: 0.7241\n",
            "Epoch 21/100\n",
            "15/15 [==============================] - 0s 4ms/step - loss: 0.5594 - accuracy: 0.7110 - val_loss: 0.6312 - val_accuracy: 0.6379\n",
            "Epoch 22/100\n",
            "15/15 [==============================] - 0s 4ms/step - loss: 0.5766 - accuracy: 0.7208 - val_loss: 0.6281 - val_accuracy: 0.7414\n",
            "Epoch 23/100\n",
            "15/15 [==============================] - 0s 4ms/step - loss: 0.5722 - accuracy: 0.6908 - val_loss: 0.6019 - val_accuracy: 0.7155\n",
            "Epoch 24/100\n",
            "15/15 [==============================] - 0s 4ms/step - loss: 0.5661 - accuracy: 0.7262 - val_loss: 0.6242 - val_accuracy: 0.6552\n",
            "Epoch 25/100\n",
            "15/15 [==============================] - 0s 4ms/step - loss: 0.5841 - accuracy: 0.6876 - val_loss: 0.6026 - val_accuracy: 0.7241\n",
            "Epoch 26/100\n",
            "15/15 [==============================] - 0s 4ms/step - loss: 0.5634 - accuracy: 0.7240 - val_loss: 0.6098 - val_accuracy: 0.6983\n",
            "Epoch 27/100\n",
            "15/15 [==============================] - 0s 4ms/step - loss: 0.5630 - accuracy: 0.7248 - val_loss: 0.6050 - val_accuracy: 0.7241\n",
            "Epoch 28/100\n",
            "15/15 [==============================] - 0s 4ms/step - loss: 0.5588 - accuracy: 0.7211 - val_loss: 0.6069 - val_accuracy: 0.6897\n",
            "Epoch 29/100\n",
            "15/15 [==============================] - 0s 4ms/step - loss: 0.5485 - accuracy: 0.7580 - val_loss: 0.6199 - val_accuracy: 0.6552\n",
            "Epoch 30/100\n",
            "15/15 [==============================] - 0s 4ms/step - loss: 0.5740 - accuracy: 0.7226 - val_loss: 0.6161 - val_accuracy: 0.7241\n",
            "Epoch 31/100\n",
            "15/15 [==============================] - 0s 4ms/step - loss: 0.5496 - accuracy: 0.7211 - val_loss: 0.6104 - val_accuracy: 0.6897\n",
            "Epoch 32/100\n",
            "15/15 [==============================] - 0s 4ms/step - loss: 0.5574 - accuracy: 0.7250 - val_loss: 0.6138 - val_accuracy: 0.6810\n",
            "Epoch 33/100\n",
            "15/15 [==============================] - 0s 4ms/step - loss: 0.5637 - accuracy: 0.7237 - val_loss: 0.6132 - val_accuracy: 0.6724\n",
            "Epoch 34/100\n",
            "15/15 [==============================] - 0s 4ms/step - loss: 0.5468 - accuracy: 0.7374 - val_loss: 0.6107 - val_accuracy: 0.6897\n",
            "Epoch 35/100\n",
            "15/15 [==============================] - 0s 4ms/step - loss: 0.5583 - accuracy: 0.7110 - val_loss: 0.6152 - val_accuracy: 0.7155\n",
            "Epoch 36/100\n",
            "15/15 [==============================] - 0s 4ms/step - loss: 0.5449 - accuracy: 0.7321 - val_loss: 0.6184 - val_accuracy: 0.6466\n",
            "Epoch 37/100\n",
            "15/15 [==============================] - 0s 4ms/step - loss: 0.5597 - accuracy: 0.7260 - val_loss: 0.6127 - val_accuracy: 0.7155\n",
            "Epoch 38/100\n",
            "15/15 [==============================] - 0s 4ms/step - loss: 0.5377 - accuracy: 0.7315 - val_loss: 0.6091 - val_accuracy: 0.6983\n",
            "Epoch 39/100\n",
            "15/15 [==============================] - 0s 4ms/step - loss: 0.5658 - accuracy: 0.7301 - val_loss: 0.6095 - val_accuracy: 0.6983\n",
            "Epoch 40/100\n",
            "15/15 [==============================] - 0s 4ms/step - loss: 0.5466 - accuracy: 0.7260 - val_loss: 0.6130 - val_accuracy: 0.6810\n",
            "Epoch 41/100\n",
            "15/15 [==============================] - 0s 5ms/step - loss: 0.5781 - accuracy: 0.7065 - val_loss: 0.6198 - val_accuracy: 0.7155\n",
            "Epoch 42/100\n",
            "15/15 [==============================] - 0s 4ms/step - loss: 0.5922 - accuracy: 0.7077 - val_loss: 0.6108 - val_accuracy: 0.7155\n",
            "Epoch 43/100\n",
            "15/15 [==============================] - 0s 4ms/step - loss: 0.5701 - accuracy: 0.7129 - val_loss: 0.6095 - val_accuracy: 0.6897\n",
            "Epoch 44/100\n",
            "15/15 [==============================] - 0s 4ms/step - loss: 0.5395 - accuracy: 0.7395 - val_loss: 0.6182 - val_accuracy: 0.6379\n",
            "Epoch 45/100\n",
            "15/15 [==============================] - 0s 4ms/step - loss: 0.5385 - accuracy: 0.7207 - val_loss: 0.6099 - val_accuracy: 0.7069\n",
            "Epoch 46/100\n",
            "15/15 [==============================] - 0s 4ms/step - loss: 0.5196 - accuracy: 0.7579 - val_loss: 0.6103 - val_accuracy: 0.6983\n",
            "Epoch 47/100\n",
            "15/15 [==============================] - 0s 4ms/step - loss: 0.5629 - accuracy: 0.7005 - val_loss: 0.6091 - val_accuracy: 0.6983\n",
            "Epoch 48/100\n",
            "15/15 [==============================] - 0s 4ms/step - loss: 0.5452 - accuracy: 0.7204 - val_loss: 0.6131 - val_accuracy: 0.7155\n",
            "Epoch 49/100\n",
            "15/15 [==============================] - 0s 4ms/step - loss: 0.5499 - accuracy: 0.7242 - val_loss: 0.6123 - val_accuracy: 0.6724\n",
            "Epoch 50/100\n",
            "15/15 [==============================] - 0s 4ms/step - loss: 0.5423 - accuracy: 0.7541 - val_loss: 0.6104 - val_accuracy: 0.6983\n",
            "Epoch 51/100\n",
            "15/15 [==============================] - 0s 15ms/step - loss: 0.5598 - accuracy: 0.7112 - val_loss: 0.6120 - val_accuracy: 0.6724\n",
            "Epoch 52/100\n",
            "15/15 [==============================] - 0s 4ms/step - loss: 0.5493 - accuracy: 0.7064 - val_loss: 0.6212 - val_accuracy: 0.7155\n",
            "Epoch 53/100\n",
            "15/15 [==============================] - 0s 4ms/step - loss: 0.5752 - accuracy: 0.7011 - val_loss: 0.6351 - val_accuracy: 0.5948\n",
            "Epoch 54/100\n",
            "15/15 [==============================] - 0s 4ms/step - loss: 0.5755 - accuracy: 0.6925 - val_loss: 0.6076 - val_accuracy: 0.7069\n",
            "Epoch 55/100\n",
            "15/15 [==============================] - 0s 5ms/step - loss: 0.5639 - accuracy: 0.7148 - val_loss: 0.6068 - val_accuracy: 0.6983\n",
            "Epoch 56/100\n",
            "15/15 [==============================] - 0s 4ms/step - loss: 0.5630 - accuracy: 0.6938 - val_loss: 0.6075 - val_accuracy: 0.7069\n",
            "Epoch 57/100\n",
            "15/15 [==============================] - 0s 4ms/step - loss: 0.5332 - accuracy: 0.7454 - val_loss: 0.6090 - val_accuracy: 0.7069\n",
            "Epoch 58/100\n",
            "15/15 [==============================] - 0s 4ms/step - loss: 0.5398 - accuracy: 0.7312 - val_loss: 0.6124 - val_accuracy: 0.7155\n",
            "Epoch 59/100\n",
            "15/15 [==============================] - 0s 4ms/step - loss: 0.5459 - accuracy: 0.7357 - val_loss: 0.6138 - val_accuracy: 0.6638\n",
            "Epoch 60/100\n",
            "15/15 [==============================] - 0s 4ms/step - loss: 0.5533 - accuracy: 0.7411 - val_loss: 0.6156 - val_accuracy: 0.7241\n",
            "Epoch 61/100\n",
            "15/15 [==============================] - 0s 5ms/step - loss: 0.5630 - accuracy: 0.6984 - val_loss: 0.6202 - val_accuracy: 0.6466\n",
            "Epoch 62/100\n",
            "15/15 [==============================] - 0s 4ms/step - loss: 0.5594 - accuracy: 0.7097 - val_loss: 0.6101 - val_accuracy: 0.7069\n",
            "Epoch 63/100\n",
            "15/15 [==============================] - 0s 4ms/step - loss: 0.5325 - accuracy: 0.7733 - val_loss: 0.6084 - val_accuracy: 0.6897\n",
            "Epoch 64/100\n",
            "15/15 [==============================] - 0s 4ms/step - loss: 0.5391 - accuracy: 0.7223 - val_loss: 0.6114 - val_accuracy: 0.6983\n",
            "Epoch 65/100\n",
            "15/15 [==============================] - 0s 4ms/step - loss: 0.5337 - accuracy: 0.7547 - val_loss: 0.6093 - val_accuracy: 0.7069\n",
            "Epoch 66/100\n",
            "15/15 [==============================] - 0s 4ms/step - loss: 0.5311 - accuracy: 0.7554 - val_loss: 0.6086 - val_accuracy: 0.6897\n",
            "Epoch 67/100\n",
            "15/15 [==============================] - 0s 4ms/step - loss: 0.5353 - accuracy: 0.7477 - val_loss: 0.6097 - val_accuracy: 0.6724\n",
            "Epoch 68/100\n",
            "15/15 [==============================] - 0s 4ms/step - loss: 0.5328 - accuracy: 0.7373 - val_loss: 0.6113 - val_accuracy: 0.7155\n",
            "Epoch 69/100\n",
            "15/15 [==============================] - 0s 4ms/step - loss: 0.5743 - accuracy: 0.7161 - val_loss: 0.6061 - val_accuracy: 0.7155\n",
            "Epoch 70/100\n",
            "15/15 [==============================] - 0s 4ms/step - loss: 0.5422 - accuracy: 0.7501 - val_loss: 0.6242 - val_accuracy: 0.6121\n",
            "Epoch 71/100\n",
            "15/15 [==============================] - 0s 4ms/step - loss: 0.5887 - accuracy: 0.7130 - val_loss: 0.6163 - val_accuracy: 0.7069\n",
            "Epoch 72/100\n",
            "15/15 [==============================] - 0s 4ms/step - loss: 0.5495 - accuracy: 0.7487 - val_loss: 0.6045 - val_accuracy: 0.6983\n",
            "Epoch 73/100\n",
            "15/15 [==============================] - 0s 4ms/step - loss: 0.5378 - accuracy: 0.7550 - val_loss: 0.6104 - val_accuracy: 0.7069\n",
            "Epoch 74/100\n",
            "15/15 [==============================] - 0s 4ms/step - loss: 0.5486 - accuracy: 0.7394 - val_loss: 0.6048 - val_accuracy: 0.7069\n",
            "Epoch 75/100\n",
            "15/15 [==============================] - 0s 4ms/step - loss: 0.5639 - accuracy: 0.7188 - val_loss: 0.6049 - val_accuracy: 0.7069\n",
            "Epoch 76/100\n",
            "15/15 [==============================] - 0s 4ms/step - loss: 0.5440 - accuracy: 0.7417 - val_loss: 0.6052 - val_accuracy: 0.7069\n",
            "Epoch 77/100\n",
            "15/15 [==============================] - 0s 4ms/step - loss: 0.5458 - accuracy: 0.7253 - val_loss: 0.6084 - val_accuracy: 0.7069\n",
            "Epoch 78/100\n",
            "15/15 [==============================] - 0s 4ms/step - loss: 0.5278 - accuracy: 0.7527 - val_loss: 0.6152 - val_accuracy: 0.6293\n",
            "Epoch 79/100\n",
            "15/15 [==============================] - 0s 5ms/step - loss: 0.5364 - accuracy: 0.7389 - val_loss: 0.6161 - val_accuracy: 0.7155\n",
            "Epoch 80/100\n",
            "15/15 [==============================] - 0s 4ms/step - loss: 0.5801 - accuracy: 0.6975 - val_loss: 0.6058 - val_accuracy: 0.6724\n",
            "Epoch 81/100\n",
            "15/15 [==============================] - 0s 15ms/step - loss: 0.5677 - accuracy: 0.6802 - val_loss: 0.6042 - val_accuracy: 0.7155\n",
            "Epoch 82/100\n",
            "15/15 [==============================] - 0s 5ms/step - loss: 0.5454 - accuracy: 0.7369 - val_loss: 0.6163 - val_accuracy: 0.6293\n",
            "Epoch 83/100\n",
            "15/15 [==============================] - 0s 5ms/step - loss: 0.5396 - accuracy: 0.7496 - val_loss: 0.6069 - val_accuracy: 0.6724\n",
            "Epoch 84/100\n",
            "15/15 [==============================] - 0s 4ms/step - loss: 0.5072 - accuracy: 0.7782 - val_loss: 0.6047 - val_accuracy: 0.7155\n",
            "Epoch 85/100\n",
            "15/15 [==============================] - 0s 4ms/step - loss: 0.5408 - accuracy: 0.7350 - val_loss: 0.6066 - val_accuracy: 0.6466\n",
            "Epoch 86/100\n",
            "15/15 [==============================] - 0s 4ms/step - loss: 0.5267 - accuracy: 0.7299 - val_loss: 0.6057 - val_accuracy: 0.6724\n",
            "Epoch 87/100\n",
            "15/15 [==============================] - 0s 4ms/step - loss: 0.5678 - accuracy: 0.6924 - val_loss: 0.6058 - val_accuracy: 0.7069\n",
            "Epoch 88/100\n",
            "15/15 [==============================] - 0s 4ms/step - loss: 0.5248 - accuracy: 0.7380 - val_loss: 0.6213 - val_accuracy: 0.6379\n",
            "Epoch 89/100\n",
            "15/15 [==============================] - 0s 4ms/step - loss: 0.5294 - accuracy: 0.7460 - val_loss: 0.6107 - val_accuracy: 0.7069\n",
            "Epoch 90/100\n",
            "15/15 [==============================] - 0s 4ms/step - loss: 0.5344 - accuracy: 0.7476 - val_loss: 0.6098 - val_accuracy: 0.6293\n",
            "Epoch 91/100\n",
            "15/15 [==============================] - 0s 5ms/step - loss: 0.5160 - accuracy: 0.7508 - val_loss: 0.6087 - val_accuracy: 0.7069\n",
            "Epoch 92/100\n",
            "15/15 [==============================] - 0s 4ms/step - loss: 0.5254 - accuracy: 0.7496 - val_loss: 0.6057 - val_accuracy: 0.7069\n",
            "Epoch 93/100\n",
            "15/15 [==============================] - 0s 4ms/step - loss: 0.5294 - accuracy: 0.7412 - val_loss: 0.6038 - val_accuracy: 0.6897\n",
            "Epoch 94/100\n",
            "15/15 [==============================] - 0s 4ms/step - loss: 0.4953 - accuracy: 0.7506 - val_loss: 0.6058 - val_accuracy: 0.6810\n",
            "Epoch 95/100\n",
            "15/15 [==============================] - 0s 4ms/step - loss: 0.5509 - accuracy: 0.7278 - val_loss: 0.6031 - val_accuracy: 0.7155\n",
            "Epoch 96/100\n",
            "15/15 [==============================] - 0s 4ms/step - loss: 0.5193 - accuracy: 0.7395 - val_loss: 0.6023 - val_accuracy: 0.6810\n",
            "Epoch 97/100\n",
            "15/15 [==============================] - 0s 4ms/step - loss: 0.5357 - accuracy: 0.7404 - val_loss: 0.6106 - val_accuracy: 0.6379\n",
            "Epoch 98/100\n",
            "15/15 [==============================] - 0s 5ms/step - loss: 0.5428 - accuracy: 0.7407 - val_loss: 0.6013 - val_accuracy: 0.7069\n",
            "Epoch 99/100\n",
            "15/15 [==============================] - 0s 5ms/step - loss: 0.5240 - accuracy: 0.7417 - val_loss: 0.6042 - val_accuracy: 0.6466\n",
            "Epoch 100/100\n",
            "15/15 [==============================] - 0s 4ms/step - loss: 0.5360 - accuracy: 0.7199 - val_loss: 0.6048 - val_accuracy: 0.6983\n"
          ],
          "name": "stdout"
        }
      ]
    }
  ]
}