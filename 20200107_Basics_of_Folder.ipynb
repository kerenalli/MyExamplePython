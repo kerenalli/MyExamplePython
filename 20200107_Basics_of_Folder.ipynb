{
  "nbformat": 4,
  "nbformat_minor": 0,
  "metadata": {
    "colab": {
      "name": "20200107_Basics_of_Folder.ipynb",
      "provenance": [],
      "authorship_tag": "ABX9TyM/yIVJr5bKSA0PSubTF3P7",
      "include_colab_link": true
    },
    "kernelspec": {
      "name": "python3",
      "display_name": "Python 3"
    }
  },
  "cells": [
    {
      "cell_type": "markdown",
      "metadata": {
        "id": "view-in-github",
        "colab_type": "text"
      },
      "source": [
        "<a href=\"https://colab.research.google.com/github/kerenalli/MyExamplePython/blob/main/20200107_Basics_of_Folder.ipynb\" target=\"_parent\"><img src=\"https://colab.research.google.com/assets/colab-badge.svg\" alt=\"Open In Colab\"/></a>"
      ]
    },
    {
      "cell_type": "markdown",
      "metadata": {
        "id": "q4UpJTi2_nhW"
      },
      "source": [
        "# **python program to create the directory with try block**"
      ]
    },
    {
      "cell_type": "code",
      "metadata": {
        "id": "TPfJ0bRTF6_f",
        "colab": {
          "base_uri": "https://localhost:8080/"
        },
        "outputId": "a2986691-f8d4-4a96-8ee9-fcdff1ed0808"
      },
      "source": [
        "import os\r\n",
        "directory=\"sk\"\r\n",
        "parent_dir=\"/content/sample_data\"\r\n",
        "path=os.path.join(parent_dir,directory)\r\n",
        "try:\r\n",
        "  os.mkdir(path)\r\n",
        "  print(\"Directory '%s' is created\"%directory)\r\n",
        "except OSError as error:\r\n",
        "  print(error)"
      ],
      "execution_count": 3,
      "outputs": [
        {
          "output_type": "stream",
          "text": [
            "[Errno 17] File exists: '/content/sample_data/sk'\n"
          ],
          "name": "stdout"
        }
      ]
    },
    {
      "cell_type": "markdown",
      "metadata": {
        "id": "Ku4sUgx1_yaa"
      },
      "source": [
        "# **python program to create the directory with try block using os.mkdirs()**"
      ]
    },
    {
      "cell_type": "code",
      "metadata": {
        "colab": {
          "base_uri": "https://localhost:8080/"
        },
        "id": "1Sx5eZHp_xKL",
        "outputId": "f5f689ff-fea5-4aad-c00e-081f48aa161f"
      },
      "source": [
        "import os\r\n",
        "directory=\"ks\"\r\n",
        "parent_dir=\"/content/sample_data\"\r\n",
        "path=os.path.join(parent_dir,directory)\r\n",
        "try:\r\n",
        "  os.makedirs(path, exist_ok=True)\r\n",
        "  print(\"\\nThe directory '%s' is created\"%directory)\r\n",
        "except OSError as error:\r\n",
        "  print(error)"
      ],
      "execution_count": 11,
      "outputs": [
        {
          "output_type": "stream",
          "text": [
            "\n",
            "The directory 'ks' is created\n"
          ],
          "name": "stdout"
        }
      ]
    },
    {
      "cell_type": "code",
      "metadata": {
        "colab": {
          "base_uri": "https://localhost:8080/"
        },
        "id": "vzwiS6cICJRG",
        "outputId": "523cedd2-09ba-469c-aef3-cb5238cf2020"
      },
      "source": [
        "ls"
      ],
      "execution_count": 12,
      "outputs": [
        {
          "output_type": "stream",
          "text": [
            "\u001b[0m\u001b[01;32manscombe.json\u001b[0m*                \u001b[01;34mks\u001b[0m/                    \u001b[01;32mREADME.md\u001b[0m*\n",
            "california_housing_test.csv   mnist_test.csv         \u001b[01;34msk\u001b[0m/\n",
            "california_housing_train.csv  mnist_train_small.csv\n"
          ],
          "name": "stdout"
        }
      ]
    },
    {
      "cell_type": "code",
      "metadata": {
        "colab": {
          "base_uri": "https://localhost:8080/"
        },
        "id": "W65sij6KCOwU",
        "outputId": "3f0d01dd-f24d-4725-8cdd-081f8ec660f2"
      },
      "source": [
        "cd sample_data/\r\n"
      ],
      "execution_count": 13,
      "outputs": [
        {
          "output_type": "stream",
          "text": [
            "[Errno 2] No such file or directory: 'sample_data/'\n",
            "/content/sample_data\n"
          ],
          "name": "stdout"
        }
      ]
    },
    {
      "cell_type": "code",
      "metadata": {
        "colab": {
          "base_uri": "https://localhost:8080/"
        },
        "id": "OT2lOkMYCQ1k",
        "outputId": "91645074-0e2b-42b7-856c-d2da8ac3186e"
      },
      "source": [
        "%ls"
      ],
      "execution_count": 14,
      "outputs": [
        {
          "output_type": "stream",
          "text": [
            "\u001b[0m\u001b[01;32manscombe.json\u001b[0m*                \u001b[01;34mks\u001b[0m/                    \u001b[01;32mREADME.md\u001b[0m*\n",
            "california_housing_test.csv   mnist_test.csv         \u001b[01;34msk\u001b[0m/\n",
            "california_housing_train.csv  mnist_train_small.csv\n"
          ],
          "name": "stdout"
        }
      ]
    },
    {
      "cell_type": "code",
      "metadata": {
        "colab": {
          "base_uri": "https://localhost:8080/"
        },
        "id": "j7ZWVernCgnh",
        "outputId": "d2c2c5da-433e-477b-e6cc-69a06fa44047"
      },
      "source": [
        "cd ks"
      ],
      "execution_count": 15,
      "outputs": [
        {
          "output_type": "stream",
          "text": [
            "/content/sample_data/ks\n"
          ],
          "name": "stdout"
        }
      ]
    },
    {
      "cell_type": "code",
      "metadata": {
        "id": "6QnMLdofCjZi"
      },
      "source": [
        "ls"
      ],
      "execution_count": 16,
      "outputs": []
    },
    {
      "cell_type": "markdown",
      "metadata": {
        "id": "gWw_K8gEDj4c"
      },
      "source": [
        "# List all files of certain type in a directory using Python\r\n",
        "In python, there are several built-in modules and methods for file handling. These functions are present in different modules such as os, glob etc.\r\n",
        "\r\n",
        "So there are three certain extensions such as:\r\n",
        "\r\n",
        "***Using os. walk(): ***helps us to list all the files in the specific path by traversing the directory either by a bottom-up approach or by a top-down approach and return 3 tuples such as root, dir, files.\r\n",
        "\r\n",
        "**`Syntax: os.walk(r’pathname’)`**\r\n",
        "\r\n",
        "**Using os. listdir():** Os has another method which helps us find files on the specific path known as listdir(). It returns all the file names in the directory specified in the location or path as a list format in random order. It excludes the ‘.’ and ‘..’ if they are available in the input folder.\r\n",
        "\r\n",
        "**`Syntax: os.listdir(r’pathname’)`**\r\n",
        "\r\n",
        "**Using glob. glob():** glob modules gives the facility to find a list of files with particular extensions or pattern. This function has two parameters one is path-name with a specific pattern which filters out all the files and returns the files as a list. Another Parameter named as recursive by default it is off means false. When its value is true then the function searches its directory along with its subdirectory. All wild cards are allowed here like’?’,’*’ etc.\r\n",
        "`**Syntax: glob.glob(path name, recursive=True)**`"
      ]
    },
    {
      "cell_type": "code",
      "metadata": {
        "colab": {
          "base_uri": "https://localhost:8080/"
        },
        "id": "Y8hEQMuYGq91",
        "outputId": "9062381f-2196-4bf9-969a-1daec051f813"
      },
      "source": [
        "#os.walk().\r\n",
        "import os\r\n",
        "#traverse the whole directory\r\n",
        "for root, dirs, files in os.walk(r'/content/sample_data/ks'):\r\n",
        "  #select the file name\r\n",
        "  for file in files:\r\n",
        "    #check the file extension\r\n",
        "    if file.endswith('.jpg'):\r\n",
        "      #print the whole path\r\n",
        "      print(os.path.join(root, file))"
      ],
      "execution_count": 18,
      "outputs": [
        {
          "output_type": "stream",
          "text": [
            "/content/sample_data/ks/real_00014.jpg\n",
            "/content/sample_data/ks/real_00019.jpg\n",
            "/content/sample_data/ks/real_00023.jpg\n",
            "/content/sample_data/ks/real_00024.jpg\n",
            "/content/sample_data/ks/real_00001.jpg\n",
            "/content/sample_data/ks/real_00020.jpg\n",
            "/content/sample_data/ks/real_00016.jpg\n",
            "/content/sample_data/ks/real_00021.jpg\n",
            "/content/sample_data/ks/real_00009.jpg\n",
            "/content/sample_data/ks/real_00013.jpg\n",
            "/content/sample_data/ks/real_00018.jpg\n",
            "/content/sample_data/ks/real_00011.jpg\n",
            "/content/sample_data/ks/real_00015.jpg\n",
            "/content/sample_data/ks/real_00008.jpg\n",
            "/content/sample_data/ks/real_00010.jpg\n",
            "/content/sample_data/ks/real_00005.jpg\n",
            "/content/sample_data/ks/real_00006.jpg\n",
            "/content/sample_data/ks/real_00017.jpg\n",
            "/content/sample_data/ks/real_00007.jpg\n",
            "/content/sample_data/ks/real_00012.jpg\n",
            "/content/sample_data/ks/real_00025.jpg\n",
            "/content/sample_data/ks/real_00022.jpg\n"
          ],
          "name": "stdout"
        }
      ]
    },
    {
      "cell_type": "code",
      "metadata": {
        "colab": {
          "base_uri": "https://localhost:8080/"
        },
        "id": "8qeAAHSqDmLF",
        "outputId": "3b947fb1-db47-47db-90da-5d5d2857441b"
      },
      "source": [
        "#os.listdir()\r\n",
        "import os\r\n",
        "for file in os.listdir(r'/content/sample_data/ks'):\r\n",
        "  #check the file extensions\r\n",
        "  if file.endswith('jpg'):\r\n",
        "    print(os.path.join(r'/content/sample_data/ks',file))\r\n"
      ],
      "execution_count": 30,
      "outputs": [
        {
          "output_type": "stream",
          "text": [
            "/content/sample_data/ks/real_00014.jpg\n",
            "/content/sample_data/ks/real_00019.jpg\n",
            "/content/sample_data/ks/real_00023.jpg\n",
            "/content/sample_data/ks/real_00024.jpg\n",
            "/content/sample_data/ks/real_00001.jpg\n",
            "/content/sample_data/ks/real_00020.jpg\n",
            "/content/sample_data/ks/real_00016.jpg\n",
            "/content/sample_data/ks/real_00021.jpg\n",
            "/content/sample_data/ks/real_00009.jpg\n",
            "/content/sample_data/ks/real_00013.jpg\n",
            "/content/sample_data/ks/real_00018.jpg\n",
            "/content/sample_data/ks/real_00011.jpg\n",
            "/content/sample_data/ks/real_00015.jpg\n",
            "/content/sample_data/ks/real_00008.jpg\n",
            "/content/sample_data/ks/real_00010.jpg\n",
            "/content/sample_data/ks/real_00005.jpg\n",
            "/content/sample_data/ks/real_00006.jpg\n",
            "/content/sample_data/ks/real_00017.jpg\n",
            "/content/sample_data/ks/real_00007.jpg\n",
            "/content/sample_data/ks/real_00012.jpg\n",
            "/content/sample_data/ks/real_00025.jpg\n",
            "/content/sample_data/ks/real_00022.jpg\n"
          ],
          "name": "stdout"
        }
      ]
    },
    {
      "cell_type": "code",
      "metadata": {
        "colab": {
          "base_uri": "https://localhost:8080/"
        },
        "id": "H8cVcMIUJ6FX",
        "outputId": "eec8137d-5f4d-4cb6-a02b-0c8d70ddb1ff"
      },
      "source": [
        "#glob.glob()\r\n",
        "import glob\r\n",
        "import os\r\n",
        "for file in glob.glob(r'/content/sample_data/ks'+\"**/*.jpg\", recursive=True):\r\n",
        "  print(os.path.join(r'/content/sample_data/ks',file))"
      ],
      "execution_count": 31,
      "outputs": [
        {
          "output_type": "stream",
          "text": [
            "/content/sample_data/ks/real_00014.jpg\n",
            "/content/sample_data/ks/real_00019.jpg\n",
            "/content/sample_data/ks/real_00023.jpg\n",
            "/content/sample_data/ks/real_00024.jpg\n",
            "/content/sample_data/ks/real_00001.jpg\n",
            "/content/sample_data/ks/real_00020.jpg\n",
            "/content/sample_data/ks/real_00016.jpg\n",
            "/content/sample_data/ks/real_00021.jpg\n",
            "/content/sample_data/ks/real_00009.jpg\n",
            "/content/sample_data/ks/real_00013.jpg\n",
            "/content/sample_data/ks/real_00018.jpg\n",
            "/content/sample_data/ks/real_00011.jpg\n",
            "/content/sample_data/ks/real_00015.jpg\n",
            "/content/sample_data/ks/real_00008.jpg\n",
            "/content/sample_data/ks/real_00010.jpg\n",
            "/content/sample_data/ks/real_00005.jpg\n",
            "/content/sample_data/ks/real_00006.jpg\n",
            "/content/sample_data/ks/real_00017.jpg\n",
            "/content/sample_data/ks/real_00007.jpg\n",
            "/content/sample_data/ks/real_00012.jpg\n",
            "/content/sample_data/ks/real_00025.jpg\n",
            "/content/sample_data/ks/real_00022.jpg\n"
          ],
          "name": "stdout"
        }
      ]
    }
  ]
}