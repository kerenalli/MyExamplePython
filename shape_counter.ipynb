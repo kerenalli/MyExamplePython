{
  "nbformat": 4,
  "nbformat_minor": 0,
  "metadata": {
    "colab": {
      "name": "shape_counter.ipynb",
      "provenance": [],
      "collapsed_sections": [],
      "authorship_tag": "ABX9TyNrfbJCEAZSs+VwGWaFotbL",
      "include_colab_link": true
    },
    "kernelspec": {
      "name": "python3",
      "display_name": "Python 3"
    }
  },
  "cells": [
    {
      "cell_type": "markdown",
      "metadata": {
        "id": "view-in-github",
        "colab_type": "text"
      },
      "source": [
        "<a href=\"https://colab.research.google.com/github/kerenalli/MyExamplePython/blob/main/shape_counter.ipynb\" target=\"_parent\"><img src=\"https://colab.research.google.com/assets/colab-badge.svg\" alt=\"Open In Colab\"/></a>"
      ]
    },
    {
      "cell_type": "code",
      "metadata": {
        "id": "IAZ-uiB9-LPx"
      },
      "source": [
        "import argparse\r\n",
        "import imutils\r\n",
        "import matplotlib.pyplot as plt\r\n",
        "import cv2\r\n",
        "# construct the argument parser and parse the arguments\r\n",
        "ap = argparse.ArgumentParser()\r\n",
        "ap.add_argument(\"-i\", \"--input\", required=True,\thelp=\"path to input image\")\r\n",
        "ap.add_argument(\"-o\", \"--output\", required=True,help=\"path to output image\")\r\n",
        "args = vars(ap.parse_args())\r\n",
        "# load the input image from disk\r\n",
        "image = cv2.imread(args[\"input\"])\r\n",
        "# convert the image to grayscale, blur it, and threshold it\r\n",
        "gray = cv2.cvtColor(image, cv2.COLOR_BGR2GRAY)\r\n",
        "blurred = cv2.GaussianBlur(gray, (5,5), 0)\r\n",
        "thresh = cv2.threshold(blurred, 60, 255, cv2.THRESH_BINARY)[1]\r\n",
        "# extract contours from the image\r\n",
        "cnts = cv2.findContours(thresh.copy(), cv2.RETR_EXTERNAL,\r\n",
        "\tcv2.CHAIN_APPROX_SIMPLE)\r\n",
        "cnts = imutils.grab_contours(cnts)\r\n",
        "# loop over the contours and draw them on the input image\r\n",
        "for c in cnts:\r\n",
        "\tcv2.drawContours(image, [c], -1, (0, 0, 255), 2)\r\n",
        "# display the total number of shapes on the image\r\n",
        "text = \"I found {} total shapes\".format(len(cnts))\r\n",
        "cv2.putText(image, text, \r\n",
        "            (10, 20), \r\n",
        "            cv2.FONT_HERSHEY_SIMPLEX, \r\n",
        "            0.5,\r\n",
        "            (0, 0, 255), \r\n",
        "            2\r\n",
        "            )\r\n",
        "# write the output image to disk\r\n",
        "cv2.imwrite(args[\"output\"], image)"
      ],
      "execution_count": null,
      "outputs": []
    },
    {
      "cell_type": "code",
      "metadata": {
        "id": "0HCzx4sRDXqP"
      },
      "source": [
        "#Save the above code as python script\r\n",
        "#Run this code in another notebook where in\r\n",
        "#1: Add two files input_01.png and output_01.png\r\n",
        "#2. On code block run the below code correctly.\r\n",
        "#\"!python3 \"/content/drive/MyDrive/Colab Notebooks/shape_counter.py\" --input '/content/input_01.png' --output '/content/output_01.png'"
      ],
      "execution_count": null,
      "outputs": []
    }
  ]
}