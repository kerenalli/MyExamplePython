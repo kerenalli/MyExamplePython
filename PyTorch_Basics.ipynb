{
  "nbformat": 4,
  "nbformat_minor": 0,
  "metadata": {
    "colab": {
      "name": "PyTorch Basics.ipynb",
      "provenance": [],
      "authorship_tag": "ABX9TyPvROwU0sRfILVuiqaP1M/5",
      "include_colab_link": true
    },
    "kernelspec": {
      "name": "python3",
      "display_name": "Python 3"
    }
  },
  "cells": [
    {
      "cell_type": "markdown",
      "metadata": {
        "id": "view-in-github",
        "colab_type": "text"
      },
      "source": [
        "<a href=\"https://colab.research.google.com/github/kerenalli/MyExamplePython/blob/main/PyTorch_Basics.ipynb\" target=\"_parent\"><img src=\"https://colab.research.google.com/assets/colab-badge.svg\" alt=\"Open In Colab\"/></a>"
      ]
    },
    {
      "cell_type": "code",
      "metadata": {
        "id": "yiaERgktcvuO"
      },
      "source": [
        "import torch"
      ],
      "execution_count": 1,
      "outputs": []
    },
    {
      "cell_type": "code",
      "metadata": {
        "colab": {
          "base_uri": "https://localhost:8080/"
        },
        "id": "wIM64Y9veTU8",
        "outputId": "8430f712-3308-449a-870d-9a7203d9bd24"
      },
      "source": [
        "#Tensor: A n-D array/vector\r\n",
        "# t1 here is a Scalar\r\n",
        "t1=torch.tensor(4.0)\r\n",
        "print(t1)\r\n",
        "print(\"data type of t1: \",t1.dtype)"
      ],
      "execution_count": 5,
      "outputs": [
        {
          "output_type": "stream",
          "text": [
            "tensor(4.)\n",
            "data type of t1:  torch.float32\n"
          ],
          "name": "stdout"
        }
      ]
    },
    {
      "cell_type": "code",
      "metadata": {
        "colab": {
          "base_uri": "https://localhost:8080/"
        },
        "id": "BUZKVuyse30x",
        "outputId": "0d885aae-655e-4cc2-862f-16dc9856153e"
      },
      "source": [
        "#Tensor: A 1-D vector\r\n",
        "#t2 here is a vector\r\n",
        "t2=torch.tensor([1,2,3,4.])\r\n",
        "print(t2)"
      ],
      "execution_count": 7,
      "outputs": [
        {
          "output_type": "stream",
          "text": [
            "tensor([1., 2., 3., 4.])\n",
            "data type of t2:  torch.float32\n"
          ],
          "name": "stdout"
        }
      ]
    },
    {
      "cell_type": "code",
      "metadata": {
        "colab": {
          "base_uri": "https://localhost:8080/"
        },
        "id": "wgJpQJWufVaO",
        "outputId": "03f00d85-5c63-41fd-ab77-239d3df1ce31"
      },
      "source": [
        "#t3: a 2 D matrix\r\n",
        "t3=torch.tensor([[1,2],[3,4]])\r\n",
        "print(t3)\r\n",
        "t3.shape"
      ],
      "execution_count": 14,
      "outputs": [
        {
          "output_type": "stream",
          "text": [
            "tensor([[1, 2],\n",
            "        [3, 4]])\n"
          ],
          "name": "stdout"
        },
        {
          "output_type": "execute_result",
          "data": {
            "text/plain": [
              "torch.Size([2, 2])"
            ]
          },
          "metadata": {
            "tags": []
          },
          "execution_count": 14
        }
      ]
    },
    {
      "cell_type": "code",
      "metadata": {
        "colab": {
          "base_uri": "https://localhost:8080/"
        },
        "id": "uzjMiLYHftAg",
        "outputId": "aae88dd8-b3c1-479b-b872-e9b972f30609"
      },
      "source": [
        "#t4: a 3d array\r\n",
        "t4=torch.tensor([[[1,2,3],[4,5,6],[7,8,9]],\r\n",
        "                 [[10,11,12],[13,14,15],[16,16,17]]\r\n",
        "                  ])\r\n",
        "print(t4)\r\n",
        "t4.shape"
      ],
      "execution_count": 16,
      "outputs": [
        {
          "output_type": "stream",
          "text": [
            "tensor([[[ 1,  2,  3],\n",
            "         [ 4,  5,  6],\n",
            "         [ 7,  8,  9]],\n",
            "\n",
            "        [[10, 11, 12],\n",
            "         [13, 14, 15],\n",
            "         [16, 16, 17]]])\n"
          ],
          "name": "stdout"
        },
        {
          "output_type": "execute_result",
          "data": {
            "text/plain": [
              "torch.Size([2, 3, 3])"
            ]
          },
          "metadata": {
            "tags": []
          },
          "execution_count": 16
        }
      ]
    },
    {
      "cell_type": "markdown",
      "metadata": {
        "id": "Ygl5tBxzg4U0"
      },
      "source": [
        "Tensor operations and gradients"
      ]
    },
    {
      "cell_type": "code",
      "metadata": {
        "colab": {
          "base_uri": "https://localhost:8080/"
        },
        "id": "vsmNzncqg5mc",
        "outputId": "017829df-b0c5-4a22-a8c2-a9c23106b8bf"
      },
      "source": [
        "#create tensors\r\n",
        "x=torch.tensor(3.)\r\n",
        "w=torch.tensor(4., requires_grad=True)\r\n",
        "z=torch.tensor(5., requires_grad=True)\r\n",
        "x,w,z\r\n"
      ],
      "execution_count": 21,
      "outputs": [
        {
          "output_type": "execute_result",
          "data": {
            "text/plain": [
              "(tensor(3.), tensor(4., requires_grad=True), tensor(5., requires_grad=True))"
            ]
          },
          "metadata": {
            "tags": []
          },
          "execution_count": 21
        }
      ]
    },
    {
      "cell_type": "code",
      "metadata": {
        "colab": {
          "base_uri": "https://localhost:8080/"
        },
        "id": "RMsIG3dFhtM7",
        "outputId": "fb397d92-7272-4948-fccf-6b36b0354a36"
      },
      "source": [
        "#arithmetic operations\r\n",
        "y=w*x+z\r\n",
        "y"
      ],
      "execution_count": 24,
      "outputs": [
        {
          "output_type": "execute_result",
          "data": {
            "text/plain": [
              "tensor(17., grad_fn=<AddBackward0>)"
            ]
          },
          "metadata": {
            "tags": []
          },
          "execution_count": 24
        }
      ]
    },
    {
      "cell_type": "code",
      "metadata": {
        "colab": {
          "base_uri": "https://localhost:8080/"
        },
        "id": "ef2mtJ8Uh5bM",
        "outputId": "6455c11e-cd8f-4ffc-e93b-84099a1cf52f"
      },
      "source": [
        "#compute derivates \r\n",
        "y.backward\r\n",
        "y"
      ],
      "execution_count": 27,
      "outputs": [
        {
          "output_type": "execute_result",
          "data": {
            "text/plain": [
              "tensor(17., grad_fn=<AddBackward0>)"
            ]
          },
          "metadata": {
            "tags": []
          },
          "execution_count": 27
        }
      ]
    },
    {
      "cell_type": "code",
      "metadata": {
        "colab": {
          "base_uri": "https://localhost:8080/"
        },
        "id": "mfHb0IwTiKqu",
        "outputId": "897c20cd-7534-4410-a400-f101a213f1f1"
      },
      "source": [
        "#display the gradients\r\n",
        "print('dy/dx: ', x.grad)\r\n",
        "print('dy/dw: ', w.grad)\r\n",
        "print('dy/dz: ', z.grad)"
      ],
      "execution_count": 26,
      "outputs": [
        {
          "output_type": "stream",
          "text": [
            "dy/dx:  None\n",
            "dy/dw:  None\n",
            "dy/dz:  None\n"
          ],
          "name": "stdout"
        }
      ]
    },
    {
      "cell_type": "code",
      "metadata": {
        "colab": {
          "base_uri": "https://localhost:8080/"
        },
        "id": "s0rfN1yyjphK",
        "outputId": "53b6f386-1013-4e79-dd81-aeb7e4c40fc9"
      },
      "source": [
        "# Create a tensor with a fixed value for every element\r\n",
        "t6 = torch.full((3,3), 42)\r\n",
        "t6"
      ],
      "execution_count": 31,
      "outputs": [
        {
          "output_type": "execute_result",
          "data": {
            "text/plain": [
              "tensor([[42, 42, 42],\n",
              "        [42, 42, 42],\n",
              "        [42, 42, 42]])"
            ]
          },
          "metadata": {
            "tags": []
          },
          "execution_count": 31
        }
      ]
    },
    {
      "cell_type": "code",
      "metadata": {
        "colab": {
          "base_uri": "https://localhost:8080/"
        },
        "id": "V1uMAeCXj28K",
        "outputId": "74795449-c73c-4d59-b24a-daa76645c221"
      },
      "source": [
        "#concatinate tensors\r\n",
        "t7=torch.cat((t6,t6))\r\n",
        "t7\r\n"
      ],
      "execution_count": 34,
      "outputs": [
        {
          "output_type": "execute_result",
          "data": {
            "text/plain": [
              "tensor([[42, 42, 42],\n",
              "        [42, 42, 42],\n",
              "        [42, 42, 42],\n",
              "        [42, 42, 42],\n",
              "        [42, 42, 42],\n",
              "        [42, 42, 42]])"
            ]
          },
          "metadata": {
            "tags": []
          },
          "execution_count": 34
        }
      ]
    },
    {
      "cell_type": "code",
      "metadata": {
        "colab": {
          "base_uri": "https://localhost:8080/"
        },
        "id": "PclVfQpOkRQg",
        "outputId": "d5202b94-d3aa-422f-a7cb-d205882d16e2"
      },
      "source": [
        "#compute the sin of each tensor\r\n",
        "t8 = torch.sin(t2)\r\n",
        "t8\r\n",
        "t9 = t8.reshape(2, 2, 1)\r\n",
        "t9\r\n"
      ],
      "execution_count": 49,
      "outputs": [
        {
          "output_type": "execute_result",
          "data": {
            "text/plain": [
              "tensor([[[ 0.8415],\n",
              "         [ 0.9093]],\n",
              "\n",
              "        [[ 0.1411],\n",
              "         [-0.7568]]])"
            ]
          },
          "metadata": {
            "tags": []
          },
          "execution_count": 49
        }
      ]
    },
    {
      "cell_type": "code",
      "metadata": {
        "colab": {
          "base_uri": "https://localhost:8080/"
        },
        "id": "dlbKiULtlMyL",
        "outputId": "42d1a91a-312f-4020-afb2-bbb201d2c2d7"
      },
      "source": [
        "#create an array in Numpy:\r\n",
        "import numpy as np\r\n",
        "x = np.array([[1, 2], [3, 4.]])\r\n",
        "x"
      ],
      "execution_count": 50,
      "outputs": [
        {
          "output_type": "execute_result",
          "data": {
            "text/plain": [
              "array([[1., 2.],\n",
              "       [3., 4.]])"
            ]
          },
          "metadata": {
            "tags": []
          },
          "execution_count": 50
        }
      ]
    },
    {
      "cell_type": "code",
      "metadata": {
        "colab": {
          "base_uri": "https://localhost:8080/"
        },
        "id": "MljJr_pildxP",
        "outputId": "406762be-bd45-4d1b-dce3-5467c3e844bb"
      },
      "source": [
        "# Convert the numpy array to a torch tensor.\r\n",
        "p=torch.from_numpy(x)\r\n",
        "p"
      ],
      "execution_count": 53,
      "outputs": [
        {
          "output_type": "execute_result",
          "data": {
            "text/plain": [
              "tensor([[1., 2.],\n",
              "        [3., 4.]], dtype=torch.float64)"
            ]
          },
          "metadata": {
            "tags": []
          },
          "execution_count": 53
        }
      ]
    },
    {
      "cell_type": "code",
      "metadata": {
        "colab": {
          "base_uri": "https://localhost:8080/"
        },
        "id": "8PRekUSVlw1A",
        "outputId": "3deb6ef5-4e0f-4c3c-c276-d65827eb15bb"
      },
      "source": [
        "# Convert a torch tensor to the numpy array\r\n",
        "x=p.numpy()\r\n",
        "x"
      ],
      "execution_count": 55,
      "outputs": [
        {
          "output_type": "execute_result",
          "data": {
            "text/plain": [
              "array([[1., 2.],\n",
              "       [3., 4.]])"
            ]
          },
          "metadata": {
            "tags": []
          },
          "execution_count": 55
        }
      ]
    },
    {
      "cell_type": "markdown",
      "metadata": {
        "id": "advKjFlFmQvj"
      },
      "source": [
        "Save and upload your notebook"
      ]
    },
    {
      "cell_type": "code",
      "metadata": {
        "colab": {
          "base_uri": "https://localhost:8080/"
        },
        "id": "t2WNIOM8mHl0",
        "outputId": "6aea2736-0fbf-42a7-80b7-da3e2db9fd89"
      },
      "source": [
        "#instal jovian\r\n",
        "!pip install jovian --upgrade --quiet\r\n"
      ],
      "execution_count": 56,
      "outputs": [
        {
          "output_type": "stream",
          "text": [
            "\u001b[?25l\r\u001b[K     |█████                           | 10kB 16.7MB/s eta 0:00:01\r\u001b[K     |██████████                      | 20kB 22.4MB/s eta 0:00:01\r\u001b[K     |██████████████▉                 | 30kB 12.5MB/s eta 0:00:01\r\u001b[K     |███████████████████▉            | 40kB 9.7MB/s eta 0:00:01\r\u001b[K     |████████████████████████▉       | 51kB 8.5MB/s eta 0:00:01\r\u001b[K     |█████████████████████████████▊  | 61kB 8.6MB/s eta 0:00:01\r\u001b[K     |████████████████████████████████| 71kB 4.3MB/s \n",
            "\u001b[?25h  Building wheel for uuid (setup.py) ... \u001b[?25l\u001b[?25hdone\n"
          ],
          "name": "stdout"
        }
      ]
    }
  ]
}