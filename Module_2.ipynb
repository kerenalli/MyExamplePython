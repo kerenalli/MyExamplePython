{
  "nbformat": 4,
  "nbformat_minor": 0,
  "metadata": {
    "colab": {
      "provenance": [],
      "include_colab_link": true
    },
    "kernelspec": {
      "name": "python3",
      "display_name": "Python 3"
    },
    "language_info": {
      "name": "python"
    }
  },
  "cells": [
    {
      "cell_type": "markdown",
      "metadata": {
        "id": "view-in-github",
        "colab_type": "text"
      },
      "source": [
        "<a href=\"https://colab.research.google.com/github/kerenalli/MyExamplePython/blob/main/Module_2.ipynb\" target=\"_parent\"><img src=\"https://colab.research.google.com/assets/colab-badge.svg\" alt=\"Open In Colab\"/></a>"
      ]
    },
    {
      "cell_type": "markdown",
      "source": [
        "# **Module 2: Functions**\n",
        "* **Syllabus**:\n",
        "  1. User defined Functions\n",
        "  2. Parameters to functions,\n",
        "  3. Recursive functions.\n",
        "  4. Lists,\n",
        "  5. Tuples,\n",
        "  6. Dictionaries,\n",
        "  7. Strings\n",
        "\n",
        "\n"
      ],
      "metadata": {
        "id": "CyJItZxpibze"
      }
    },
    {
      "cell_type": "markdown",
      "source": [
        "# **User defined Functions**"
      ],
      "metadata": {
        "id": "_JXp8Z-djD4D"
      }
    },
    {
      "cell_type": "code",
      "execution_count": null,
      "metadata": {
        "id": "5EIIVi4OfEw3"
      },
      "outputs": [],
      "source": []
    },
    {
      "cell_type": "markdown",
      "source": [
        "# **4. Lists**\n",
        "* Lists in Python are defined as objects with the data type 'list'.\n",
        "* Lists are one of **four built-in** data types in Python used to **store collections of data**.\n",
        "* Lists are used to store multiple items with a **single variable name**.\n",
        "\n",
        "* **Items in the list**:  \n",
        "  * List items can belong to one or more data types.\n",
        "    * Ex:\n",
        "      * Strings: list1 = [\"apple\", \"banana\", \"cherry\"]\n",
        "      * Integers: list2 = [1, 5, 7, 9, 3]\n",
        "      * Boolean: list3 = [True, False, False]\n",
        "      * Mix: list4 = [\"apple\",1, 5,True].\n",
        "\n",
        "  * Following are the important properties of the list items:\n",
        "    1. **Indexed**:\n",
        "      * List items are indexed, the first item has index [0], the second item has index [1] etc.\n",
        "\n",
        "    2. **Ordered**:\n",
        "      * The items have a defined order, and that order will not change.\n",
        "      * Example:\n",
        "    3. **Mutable**:\n",
        "      * As the lists are mutable, it is possible to change, insert, and delete items in a list after it has been created.\n",
        "\n",
        "    4. **Duplicate**:\n",
        "      * The list items can be duplicate values.\n",
        "  * **list()** constructor: It is also possible to use the list() constructor when creating a new list.\n",
        "    * Ex:\n",
        "      * list1 = list((\"apple\", \"banana\", \"cherry\"))\n",
        "      * print(thislist).\n",
        "  * Access the items:\n",
        "    * As the list items are indexed, they can be accessed by referring to the index number.\n",
        "    * list = [\"apple\", \"banana\", \"cherry\"]\n",
        "    * print(list[0],list[1], list[2]).\n",
        "  * **Membership Operator**:\n",
        "    * To determine if a specified item is present in a list use the **in** keyword:\n",
        "    * Ex:\n"
      ],
      "metadata": {
        "id": "OInLx60GltJi"
      }
    },
    {
      "cell_type": "code",
      "source": [
        "list1 = list((\"sk\", \"mk\", \"bk\", \"jk\", \"vk\",\"rk\", \"hk\"))\n",
        "print(list1)"
      ],
      "metadata": {
        "colab": {
          "base_uri": "https://localhost:8080/"
        },
        "id": "DauTiA21s-Ux",
        "outputId": "27f188d7-d8e1-4589-80b9-2449768e981b"
      },
      "execution_count": null,
      "outputs": [
        {
          "output_type": "stream",
          "name": "stdout",
          "text": [
            "['sk', 'mk', 'bk', 'jk', 'vk', 'rk', 'hk']\n"
          ]
        }
      ]
    },
    {
      "cell_type": "code",
      "source": [
        "tup = tuple((\"sk\", \"mk\", \"bk\", \"jk\", \"vk\",\"rk\", \"hk\"))\n",
        "print(tup)"
      ],
      "metadata": {
        "colab": {
          "base_uri": "https://localhost:8080/"
        },
        "id": "Wjnwk_h1tYmY",
        "outputId": "5435b67d-670c-442f-f734-4d88af0f01c0"
      },
      "execution_count": null,
      "outputs": [
        {
          "output_type": "stream",
          "name": "stdout",
          "text": [
            "('sk', 'mk', 'bk', 'jk', 'vk', 'rk', 'hk')\n"
          ]
        }
      ]
    }
  ]
}